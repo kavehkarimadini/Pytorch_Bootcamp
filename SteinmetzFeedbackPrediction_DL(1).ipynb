{
  "cells": [
    {
      "cell_type": "markdown",
      "id": "f98e8b65",
      "metadata": {
        "id": "f98e8b65"
      },
      "source": [
        "# https://github.com/snntorch/Spiking-Neural-Networks-Tutorials/blob/main/tutorial_1_spikegen.ipynb"
      ]
    },
    {
      "cell_type": "markdown",
      "id": "724e9b7e",
      "metadata": {
        "id": "724e9b7e"
      },
      "source": [
        "![image.png](attachment:image.png)"
      ]
    },
    {
      "cell_type": "markdown",
      "id": "60c0c620",
      "metadata": {
        "id": "60c0c620"
      },
      "source": [
        "![image.png](attachment:image.png)"
      ]
    },
    {
      "cell_type": "code",
      "execution_count": 20,
      "id": "a68bef1b",
      "metadata": {
        "id": "a68bef1b"
      },
      "outputs": [],
      "source": [
        "# !pip install snntorch"
      ]
    },
    {
      "cell_type": "code",
      "execution_count": 21,
      "id": "bbe60211",
      "metadata": {
        "id": "bbe60211"
      },
      "outputs": [],
      "source": [
        "#!pip install deepinsight"
      ]
    },
    {
      "cell_type": "code",
      "execution_count": 22,
      "id": "b25ac3d4",
      "metadata": {
        "id": "b25ac3d4"
      },
      "outputs": [],
      "source": [
        "import numpy as np\n",
        "import matplotlib.pyplot as plt\n",
        "from scipy.stats import zscore\n",
        "from sklearn.metrics import accuracy_score, f1_score\n",
        "import pandas as pd\n",
        "from matplotlib import rcParams\n",
        "import matplotlib.gridspec as gridspec\n",
        "from sklearn import linear_model\n",
        "from PIL import Image\n",
        "import torch\n",
        "import torch.nn as nn\n",
        "from torch.utils.data import Dataset, DataLoader, random_split\n",
        "import torchvision.transforms as transforms\n",
        "import torch.utils.data as data\n",
        "import torch.optim as optim\n",
        "import torchvision.datasets as datasets\n",
        "from torchsummary import summary\n",
        "#import deepinsight\n",
        "\n",
        "import os"
      ]
    },
    {
      "cell_type": "code",
      "source": [
        "from google.colab import drive\n",
        "drive.mount('/content/drive')"
      ],
      "metadata": {
        "colab": {
          "base_uri": "https://localhost:8080/"
        },
        "id": "Qg9Rt6uQIRxL",
        "outputId": "690b0d27-63de-402e-d615-611741730e5b"
      },
      "id": "Qg9Rt6uQIRxL",
      "execution_count": 23,
      "outputs": [
        {
          "output_type": "stream",
          "name": "stdout",
          "text": [
            "Drive already mounted at /content/drive; to attempt to forcibly remount, call drive.mount(\"/content/drive\", force_remount=True).\n"
          ]
        }
      ]
    },
    {
      "cell_type": "markdown",
      "id": "4777fde2",
      "metadata": {
        "id": "4777fde2"
      },
      "source": [
        "# This is for Downloading the data"
      ]
    },
    {
      "cell_type": "code",
      "execution_count": 24,
      "id": "d8bfca66",
      "metadata": {
        "id": "d8bfca66"
      },
      "outputs": [],
      "source": [
        "import requests # for downloading using urls\n",
        "os.chdir(\"/content/drive/MyDrive/kaveh_dataset\")\n",
        "# Initialize an empty list to store filenames\n",
        "fname = []\n",
        "\n",
        "# Loop through the range [0, 3) to generate filenames and store them in the list\n",
        "for j in range(3):\n",
        "    # j is replaced in the %d\n",
        "    fname.append('steinmetz_part%d.npz' % j)\n",
        "\n",
        "# List of URLs for data download\n",
        "url = [\"https://osf.io/agvxh/download\"]\n",
        "url.append(\"https://osf.io/uv3mw/download\")\n",
        "url.append(\"https://osf.io/ehmw2/download\")\n",
        "\n",
        "# Loop through the list of URLs and download corresponding files\n",
        "for j in range(len(url)): # j starts at 0\n",
        "    # Check if the file does not exist before attempting download\n",
        "    if not os.path.isfile(fname[j]):\n",
        "        try:\n",
        "            # Send a GET request to download the file\n",
        "            r = requests.get(url[j])\n",
        "        except requests.ConnectionError:\n",
        "            # If there is a connection error, print a failure message\n",
        "            print(\"!!! Failed to download data !!!\")\n",
        "        # Check if the request was successful (status code 200)\n",
        "        if r.status_code != requests.codes.ok:\n",
        "            # If the download request was not successful, print a failure message\n",
        "            print(\"!!! Failed to download data !!!\")\n",
        "        else:\n",
        "            # If the download was successful, write the content to the corresponding file\n",
        "            with open(fname[j], \"wb\") as fid:\n",
        "                fid.write(r.content)"
      ]
    },
    {
      "cell_type": "markdown",
      "id": "75e59474",
      "metadata": {
        "id": "75e59474"
      },
      "source": [
        "# Loading Data and showing it for insight"
      ]
    },
    {
      "cell_type": "code",
      "execution_count": 25,
      "id": "7a06ec6b",
      "metadata": {
        "id": "7a06ec6b"
      },
      "outputs": [],
      "source": [
        "# Set some configurations for the figure size and axis spines of plots\n",
        "rcParams['figure.figsize'] = [16, 10]   # Set the size of the figure to 16 inches in width and 10 inches in height\n",
        "rcParams['axes.spines.top'] = False     # Turn off the top axis spine (border line)\n",
        "rcParams['axes.spines.right'] = False   # Turn off the right axis spine\n",
        "\n",
        "# Enable figure autolayout, which adjusts the subplot parameters to fit the figure area automatically\n",
        "rcParams['figure.autolayout'] = True\n",
        "\n",
        "# Groupings of brain regions\n",
        "regions = [\"vis ctx\", \"thal\", \"hipp\", \"other ctx\", \"midbrain\", \"basal ganglia\", \"cortical subplate\", \"other\"]\n",
        "brain_groups = [  # A list of lists representing different groups of brain regions\n",
        "    [\"VISa\", \"VISam\", \"VISl\", \"VISp\", \"VISpm\", \"VISrl\"],     # visual cortex\n",
        "    [\"CL\", \"LD\", \"LGd\", \"LH\", \"LP\", \"MD\", \"MG\", \"PO\", \"POL\", \"PT\", \"RT\", \"SPF\", \"TH\", \"VAL\", \"VPL\", \"VPM\"],   # thalamus\n",
        "    [\"CA\", \"CA1\", \"CA2\", \"CA3\", \"DG\", \"SUB\", \"POST\"],      # hippocampal\n",
        "    [\"ACA\", \"AUD\", \"COA\", \"DP\", \"ILA\", \"MOp\", \"MOs\", \"OLF\", \"ORB\", \"ORBm\", \"PIR\", \"PL\", \"SSp\", \"SSs\", \"RSP\", \"TT\"],  # non-visual cortex\n",
        "    [\"APN\", \"IC\", \"MB\", \"MRN\", \"NB\", \"PAG\", \"RN\", \"SCs\", \"SCm\", \"SCig\", \"SCsg\", \"ZI\"],   # midbrain\n",
        "    [\"ACB\", \"CP\", \"GPe\", \"LS\", \"LSc\", \"LSr\", \"MS\", \"OT\", \"SNr\", \"SI\"],   # basal ganglia\n",
        "    [\"BLA\", \"BMA\", \"EP\", \"EPd\", \"MEA\"]    # cortical subplate\n",
        "]\n",
        "\n",
        "# Create a copy of brain_groups to store all brain regions (for later use)\n",
        "brain_groups_all = brain_groups[:]\n",
        "n_regions = len(regions)   # Get the total number of brain regions\n",
        "\n",
        "# Load the data\n",
        "def load_alldat():\n",
        "    alldat = np.array([])   # Initialize an empty numpy array to store data\n",
        "    for j in range(len(fname)):    # Loop through the range of available files\n",
        "        # Load data from the corresponding file and concatenate it to alldat\n",
        "        alldat = np.hstack((alldat, np.load('steinmetz_part%d.npz' % j, allow_pickle=True)['dat']))\n",
        "    return alldat   # Return the concatenated data\n",
        "\n",
        "alldat = load_alldat()   # Load all the data from the files into alldat\n",
        "dt = alldat[0]['bin_size']   # Get the bin size from the first element of the data"
      ]
    },
    {
      "cell_type": "code",
      "source": [
        "alldat = np.array([])\n",
        "for j in range(len(fname)):\n",
        "  alldat = np.hstack((alldat, np.load('steinmetz_part%d.npz'%j, allow_pickle=True)['dat']))\n",
        "\n",
        "# select just one of the recordings here. 11 is nice because it has some neurons in vis ctx.\n",
        "dat = alldat[11]\n",
        "print(dat.keys())"
      ],
      "metadata": {
        "id": "kmbF7fpOn0M8",
        "outputId": "0949fd4d-dadc-4e05-9d4d-f39e8157cc66",
        "colab": {
          "base_uri": "https://localhost:8080/"
        }
      },
      "id": "kmbF7fpOn0M8",
      "execution_count": 26,
      "outputs": [
        {
          "output_type": "stream",
          "name": "stdout",
          "text": [
            "dict_keys(['spks', 'wheel', 'pupil', 'response', 'response_time', 'bin_size', 'stim_onset', 'contrast_right', 'contrast_left', 'brain_area', 'feedback_time', 'feedback_type', 'gocue', 'mouse_name', 'date_exp', 'trough_to_peak', 'active_trials', 'contrast_left_passive', 'contrast_right_passive', 'spks_passive', 'pupil_passive', 'wheel_passive', 'prev_reward', 'ccf', 'ccf_axes', 'cellid_orig', 'reaction_time', 'face', 'face_passive', 'licks', 'licks_passive'])\n"
          ]
        }
      ]
    },
    {
      "cell_type": "code",
      "source": [
        "spikes_all = dat['spks']"
      ],
      "metadata": {
        "id": "kO4L8DhHoDGO"
      },
      "id": "kO4L8DhHoDGO",
      "execution_count": 27,
      "outputs": []
    },
    {
      "cell_type": "code",
      "source": [
        "print(spikes_all.shape)"
      ],
      "metadata": {
        "id": "iyrcKr-VoLLo",
        "outputId": "23644711-ae66-4311-f037-76107bcd1463",
        "colab": {
          "base_uri": "https://localhost:8080/"
        }
      },
      "id": "iyrcKr-VoLLo",
      "execution_count": 28,
      "outputs": [
        {
          "output_type": "stream",
          "name": "stdout",
          "text": [
            "(698, 340, 250)\n"
          ]
        }
      ]
    },
    {
      "cell_type": "code",
      "source": [
        "spdat = []\n",
        "for i in range(len(alldat)):\n",
        "    sp = np.array(alldat[i]['spks'][:520,:,:])\n",
        "    print(sp.shape)\n",
        "    spdat.append(sp)\n",
        "    print(len(spdat))"
      ],
      "metadata": {
        "id": "Qdi3-GYwoOQy",
        "outputId": "55d3ade0-85c3-4c64-d5a0-fa750ef704ed",
        "colab": {
          "base_uri": "https://localhost:8080/"
        }
      },
      "id": "Qdi3-GYwoOQy",
      "execution_count": 29,
      "outputs": [
        {
          "output_type": "stream",
          "name": "stdout",
          "text": [
            "(520, 214, 250)\n",
            "1\n",
            "(520, 251, 250)\n",
            "2\n",
            "(520, 228, 250)\n",
            "3\n",
            "(520, 249, 250)\n",
            "4\n",
            "(520, 254, 250)\n",
            "5\n",
            "(520, 290, 250)\n",
            "6\n",
            "(520, 252, 250)\n",
            "7\n",
            "(520, 250, 250)\n",
            "8\n",
            "(520, 372, 250)\n",
            "9\n",
            "(520, 447, 250)\n",
            "10\n",
            "(520, 342, 250)\n",
            "11\n",
            "(520, 340, 250)\n",
            "12\n",
            "(520, 300, 250)\n",
            "13\n",
            "(520, 268, 250)\n",
            "14\n",
            "(520, 404, 250)\n",
            "15\n",
            "(474, 280, 250)\n",
            "16\n",
            "(520, 224, 250)\n",
            "17\n",
            "(520, 316, 250)\n",
            "18\n",
            "(520, 247, 250)\n",
            "19\n",
            "(520, 235, 250)\n",
            "20\n",
            "(520, 124, 250)\n",
            "21\n",
            "(520, 444, 250)\n",
            "22\n",
            "(520, 151, 250)\n",
            "23\n",
            "(520, 187, 250)\n",
            "24\n",
            "(520, 261, 250)\n",
            "25\n",
            "(520, 178, 250)\n",
            "26\n",
            "(520, 253, 250)\n",
            "27\n",
            "(520, 142, 250)\n",
            "28\n",
            "(520, 128, 250)\n",
            "29\n",
            "(520, 143, 250)\n",
            "30\n",
            "(520, 237, 250)\n",
            "31\n",
            "(520, 260, 250)\n",
            "32\n",
            "(520, 191, 250)\n",
            "33\n",
            "(520, 296, 250)\n",
            "34\n",
            "(520, 311, 250)\n",
            "35\n",
            "(520, 258, 250)\n",
            "36\n",
            "(520, 181, 250)\n",
            "37\n",
            "(520, 199, 250)\n",
            "38\n",
            "(520, 343, 250)\n",
            "39\n"
          ]
        }
      ]
    },
    {
      "cell_type": "code",
      "source": [
        "spikesList = np.array([item for items in spdat for item in items])"
      ],
      "metadata": {
        "id": "dWR8appPoXI0",
        "outputId": "fafd0aac-b87c-4d04-ae10-e4ea183a9b32",
        "colab": {
          "base_uri": "https://localhost:8080/"
        }
      },
      "id": "dWR8appPoXI0",
      "execution_count": 30,
      "outputs": [
        {
          "output_type": "stream",
          "name": "stderr",
          "text": [
            "<ipython-input-30-931c5c169877>:1: VisibleDeprecationWarning: Creating an ndarray from ragged nested sequences (which is a list-or-tuple of lists-or-tuples-or ndarrays with different lengths or shapes) is deprecated. If you meant to do this, you must specify 'dtype=object' when creating the ndarray.\n",
            "  spikesList = np.array([item for items in spdat for item in items])\n"
          ]
        }
      ]
    },
    {
      "cell_type": "code",
      "source": [
        "print(spikesList.shape)\n",
        "spikesList[9].shape"
      ],
      "metadata": {
        "id": "wHnXM4qToj4H",
        "outputId": "6a92ddd9-ca38-4971-e019-dc2cc249abbb",
        "colab": {
          "base_uri": "https://localhost:8080/"
        }
      },
      "id": "wHnXM4qToj4H",
      "execution_count": 12,
      "outputs": [
        {
          "output_type": "stream",
          "name": "stdout",
          "text": [
            "(20234,)\n"
          ]
        },
        {
          "output_type": "execute_result",
          "data": {
            "text/plain": [
              "(214, 250)"
            ]
          },
          "metadata": {},
          "execution_count": 12
        }
      ]
    },
    {
      "cell_type": "code",
      "source": [
        "feed = []\n",
        "for session in range(len(spdat)):\n",
        "    print(session)\n",
        "#     print(session.shape)\n",
        "    dat = spdat[session]\n",
        "    fb = alldat[session]['feedback_type']\n",
        "    #print(dat.shape)\n",
        "    spikes_all = np.swapaxes(dat,0,1)\n",
        "    #print(spikes_all.shape)\n",
        "    spikes_all = np.nan_to_num(spikes_all.reshape(spikes_all.shape[0],-1))\n",
        "    #spikes_all = pd.Series(spikes_all).fillna(0).tolist()\n",
        "    print(spikes_all.shape)\n",
        "    feed.append(fb)\n",
        "    try:\n",
        "      if session == 0:\n",
        "        spikes = spikes_all\n",
        "      else:\n",
        "        spikes = np.vstack((spikes,spikes_all))\n",
        "    except:\n",
        "      pass\n",
        "    #spikes = spikes.append(spike)\n",
        "    #spike = spike.append(spikes_all)"
      ],
      "metadata": {
        "id": "GQIG3axXrBug",
        "outputId": "03b4153a-b29b-4549-bed1-a36b3f4552ed",
        "colab": {
          "base_uri": "https://localhost:8080/"
        }
      },
      "id": "GQIG3axXrBug",
      "execution_count": 52,
      "outputs": [
        {
          "output_type": "stream",
          "name": "stdout",
          "text": [
            "0\n",
            "(214, 130000)\n",
            "1\n",
            "(251, 130000)\n",
            "2\n",
            "(228, 130000)\n",
            "3\n",
            "(249, 130000)\n",
            "4\n",
            "(254, 130000)\n",
            "5\n",
            "(290, 130000)\n",
            "6\n",
            "(252, 130000)\n",
            "7\n",
            "(250, 130000)\n",
            "8\n",
            "(372, 130000)\n",
            "9\n",
            "(447, 130000)\n",
            "10\n",
            "(342, 130000)\n",
            "11\n",
            "(340, 130000)\n",
            "12\n",
            "(300, 130000)\n",
            "13\n",
            "(268, 130000)\n",
            "14\n",
            "(404, 130000)\n",
            "15\n",
            "(280, 118500)\n",
            "16\n",
            "(224, 130000)\n",
            "17\n",
            "(316, 130000)\n",
            "18\n",
            "(247, 130000)\n",
            "19\n",
            "(235, 130000)\n",
            "20\n",
            "(124, 130000)\n",
            "21\n",
            "(444, 130000)\n",
            "22\n",
            "(151, 130000)\n",
            "23\n",
            "(187, 130000)\n",
            "24\n",
            "(261, 130000)\n",
            "25\n",
            "(178, 130000)\n",
            "26\n",
            "(253, 130000)\n",
            "27\n",
            "(142, 130000)\n",
            "28\n",
            "(128, 130000)\n",
            "29\n",
            "(143, 130000)\n",
            "30\n",
            "(237, 130000)\n",
            "31\n",
            "(260, 130000)\n",
            "32\n",
            "(191, 130000)\n",
            "33\n",
            "(296, 130000)\n",
            "34\n",
            "(311, 130000)\n",
            "35\n",
            "(258, 130000)\n",
            "36\n",
            "(181, 130000)\n",
            "37\n",
            "(199, 130000)\n",
            "38\n",
            "(343, 130000)\n"
          ]
        }
      ]
    },
    {
      "cell_type": "code",
      "source": [
        "feed[0].shape"
      ],
      "metadata": {
        "id": "K-sd67K6-WTC",
        "outputId": "f7fb0f6c-4c1a-4b7f-e70d-3de37002def9",
        "colab": {
          "base_uri": "https://localhost:8080/"
        }
      },
      "id": "K-sd67K6-WTC",
      "execution_count": 80,
      "outputs": [
        {
          "output_type": "execute_result",
          "data": {
            "text/plain": [
              "(214,)"
            ]
          },
          "metadata": {},
          "execution_count": 80
        }
      ]
    },
    {
      "cell_type": "code",
      "source": [
        "spikes.shape"
      ],
      "metadata": {
        "id": "iVoYSs6orrTo",
        "outputId": "2474efd9-e415-4af0-aa74-863561a53020",
        "colab": {
          "base_uri": "https://localhost:8080/"
        }
      },
      "id": "iVoYSs6orrTo",
      "execution_count": 77,
      "outputs": [
        {
          "output_type": "execute_result",
          "data": {
            "text/plain": [
              "(9770, 130000)"
            ]
          },
          "metadata": {},
          "execution_count": 77
        }
      ]
    },
    {
      "cell_type": "code",
      "source": [
        "#---------------------------------------------------"
      ],
      "metadata": {
        "id": "V_qn51pt4914"
      },
      "id": "V_qn51pt4914",
      "execution_count": 54,
      "outputs": []
    },
    {
      "cell_type": "code",
      "execution_count": null,
      "id": "7dd3b755",
      "metadata": {
        "colab": {
          "base_uri": "https://localhost:8080/"
        },
        "id": "7dd3b755",
        "outputId": "d8442cd8-64b9-454b-c539-ca3d43bd16bc"
      },
      "outputs": [
        {
          "output_type": "execute_result",
          "data": {
            "text/plain": [
              "39"
            ]
          },
          "metadata": {},
          "execution_count": 17
        }
      ],
      "source": [
        "len(alldat) # number of samples in the fisrt container\n"
      ]
    },
    {
      "cell_type": "code",
      "execution_count": null,
      "id": "bd18cf4c",
      "metadata": {
        "colab": {
          "base_uri": "https://localhost:8080/"
        },
        "id": "bd18cf4c",
        "outputId": "7a573eba-4ac7-47e7-d06a-00b76a8f77b6"
      },
      "outputs": [
        {
          "output_type": "execute_result",
          "data": {
            "text/plain": [
              "31"
            ]
          },
          "metadata": {},
          "execution_count": 19
        }
      ],
      "source": [
        "len(alldat[0]) # Access to the first memebr of the subcontainer (second hierarcgy)"
      ]
    },
    {
      "cell_type": "code",
      "execution_count": null,
      "id": "161620a3",
      "metadata": {
        "colab": {
          "base_uri": "https://localhost:8080/"
        },
        "id": "161620a3",
        "outputId": "13111b72-74b7-47e3-e525-3b87c8cb17f4"
      },
      "outputs": [
        {
          "output_type": "execute_result",
          "data": {
            "text/plain": [
              "dict_keys(['spks', 'wheel', 'pupil', 'response', 'response_time', 'bin_size', 'stim_onset', 'contrast_right', 'contrast_left', 'brain_area', 'feedback_time', 'feedback_type', 'gocue', 'mouse_name', 'date_exp', 'trough_to_peak', 'active_trials', 'contrast_left_passive', 'contrast_right_passive', 'spks_passive', 'pupil_passive', 'wheel_passive', 'prev_reward', 'ccf', 'ccf_axes', 'cellid_orig', 'reaction_time', 'face', 'face_passive', 'licks', 'licks_passive'])"
            ]
          },
          "metadata": {},
          "execution_count": 21
        }
      ],
      "source": [
        "alldat[1].keys() # name of classes"
      ]
    },
    {
      "cell_type": "code",
      "execution_count": null,
      "id": "f8f40c11",
      "metadata": {
        "colab": {
          "base_uri": "https://localhost:8080/"
        },
        "id": "f8f40c11",
        "outputId": "7c3b928e-fe31-468a-d0c4-19078b5477db"
      },
      "outputs": [
        {
          "output_type": "execute_result",
          "data": {
            "text/plain": [
              "31"
            ]
          },
          "metadata": {},
          "execution_count": 23
        }
      ],
      "source": [
        "len(alldat[1].keys()) # number of classes"
      ]
    },
    {
      "cell_type": "code",
      "execution_count": null,
      "id": "b17f3be2",
      "metadata": {
        "scrolled": true,
        "id": "b17f3be2"
      },
      "outputs": [],
      "source": [
        "# number of pic and resolution in each sub-container\n",
        "i = 0\n",
        "for session in alldat:# session = sub-container\n",
        "    print(i)\n",
        "    print(session[\"spks\"].shape)\n",
        "    i+=1"
      ]
    },
    {
      "cell_type": "code",
      "execution_count": null,
      "id": "6cebea5a",
      "metadata": {
        "colab": {
          "base_uri": "https://localhost:8080/"
        },
        "id": "6cebea5a",
        "outputId": "ad40240a-8de7-4576-e102-3a7a24a93c18"
      },
      "outputs": [
        {
          "output_type": "execute_result",
          "data": {
            "text/plain": [
              "39"
            ]
          },
          "metadata": {},
          "execution_count": 25
        }
      ],
      "source": [
        "len(alldat)"
      ]
    },
    {
      "cell_type": "code",
      "execution_count": 5,
      "id": "48195e7d",
      "metadata": {
        "id": "48195e7d"
      },
      "outputs": [],
      "source": [
        "# set the default configuration settings for Matplotlib\n",
        "plt.rcParams['figure.figsize'] = [10, 5]\n",
        "plt.rcParams['axes.prop_cycle'] = plt.cycler('color', ['r', 'g', 'b', 'y'])"
      ]
    },
    {
      "cell_type": "code",
      "execution_count": 6,
      "id": "c0554729",
      "metadata": {
        "id": "c0554729"
      },
      "outputs": [],
      "source": [
        "all_spike_data = list(np.swapaxes(session[\"spks\"],0,1).reshape(np.swapaxes(session[\"spks\"],0,1).shape[0],-1) for session in alldat)"
      ]
    },
    {
      "cell_type": "code",
      "execution_count": 7,
      "id": "d70a8889",
      "metadata": {
        "colab": {
          "base_uri": "https://localhost:8080/"
        },
        "id": "d70a8889",
        "outputId": "b68bbea6-c190-42bd-a11c-550895dc4ac4"
      },
      "outputs": [
        {
          "output_type": "execute_result",
          "data": {
            "text/plain": [
              "array([[0, 0, 0, ..., 0, 0, 0],\n",
              "       [0, 0, 0, ..., 0, 0, 0],\n",
              "       [0, 0, 0, ..., 0, 0, 0],\n",
              "       ...,\n",
              "       [0, 0, 0, ..., 0, 0, 0],\n",
              "       [0, 0, 0, ..., 0, 0, 0],\n",
              "       [0, 0, 0, ..., 0, 0, 0]], dtype=int8)"
            ]
          },
          "metadata": {},
          "execution_count": 7
        }
      ],
      "source": [
        "all_spike_data[0]"
      ]
    },
    {
      "cell_type": "code",
      "execution_count": 9,
      "id": "67f0b16b",
      "metadata": {
        "colab": {
          "base_uri": "https://localhost:8080/"
        },
        "id": "67f0b16b",
        "outputId": "7f5c0791-b3ce-46ae-9eb6-808d59543d42"
      },
      "outputs": [
        {
          "output_type": "execute_result",
          "data": {
            "text/plain": [
              "array([0, 0, 0, ..., 0, 0, 0], dtype=int8)"
            ]
          },
          "metadata": {},
          "execution_count": 9
        }
      ],
      "source": [
        "all_spike_data[0][0]"
      ]
    },
    {
      "cell_type": "code",
      "execution_count": null,
      "id": "b875be27",
      "metadata": {
        "colab": {
          "base_uri": "https://localhost:8080/"
        },
        "id": "b875be27",
        "outputId": "b864001a-3a72-4b0f-d75f-59d6541d064c"
      },
      "outputs": [
        {
          "output_type": "execute_result",
          "data": {
            "text/plain": [
              "214"
            ]
          },
          "metadata": {},
          "execution_count": 29
        }
      ],
      "source": [
        "len(all_spike_data[0])"
      ]
    },
    {
      "cell_type": "code",
      "execution_count": 55,
      "id": "c2f2cc37",
      "metadata": {
        "id": "c2f2cc37"
      },
      "outputs": [],
      "source": [
        "def maping(arr):\n",
        "    for i in range(len(arr)):\n",
        "        if arr[i] == 1:\n",
        "            arr[i] =1\n",
        "        else:\n",
        "            arr[i] = 0\n",
        "    return arr"
      ]
    },
    {
      "cell_type": "code",
      "execution_count": null,
      "id": "1b820816",
      "metadata": {
        "id": "1b820816"
      },
      "outputs": [],
      "source": [
        "#all_Y = [1 if Y == 1 else 0 for Y in session[\"feedback_type\"] for session in alldat]"
      ]
    },
    {
      "cell_type": "code",
      "source": [
        "all_Y = [maping(fe) for fe in feed]"
      ],
      "metadata": {
        "id": "9F7MObdi-wIL"
      },
      "id": "9F7MObdi-wIL",
      "execution_count": 83,
      "outputs": []
    },
    {
      "cell_type": "code",
      "execution_count": 82,
      "id": "91d8f3c5",
      "metadata": {
        "id": "91d8f3c5"
      },
      "outputs": [],
      "source": [
        "#all_Y = [maping(session[\"feedback_type\"]) for session in alldat]"
      ]
    },
    {
      "cell_type": "code",
      "execution_count": 84,
      "id": "e6f8456e",
      "metadata": {
        "colab": {
          "base_uri": "https://localhost:8080/"
        },
        "id": "e6f8456e",
        "outputId": "bca30b57-dae9-4eb9-8c8e-3b6d668d5650"
      },
      "outputs": [
        {
          "output_type": "execute_result",
          "data": {
            "text/plain": [
              "(214,)"
            ]
          },
          "metadata": {},
          "execution_count": 84
        }
      ],
      "source": [
        "all_Y[0].shape"
      ]
    },
    {
      "cell_type": "code",
      "execution_count": null,
      "id": "107509b1",
      "metadata": {
        "id": "107509b1"
      },
      "outputs": [],
      "source": [
        "# import torch\n",
        "\n",
        "# # Load pre-trained weights for a model from PyTorch Hub\n",
        "# model = torch.hub.load('pytorch/vision', 'resnet50', pretrained=True)"
      ]
    },
    {
      "cell_type": "code",
      "execution_count": null,
      "id": "679cebcb",
      "metadata": {
        "id": "679cebcb"
      },
      "outputs": [],
      "source": [
        "#from torch.utils.data import TensorDataset"
      ]
    },
    {
      "cell_type": "code",
      "source": [
        "#----------------------------------------"
      ],
      "metadata": {
        "id": "sahU7wUG5fio"
      },
      "id": "sahU7wUG5fio",
      "execution_count": null,
      "outputs": []
    },
    {
      "cell_type": "code",
      "execution_count": 58,
      "id": "53968d14",
      "metadata": {
        "id": "53968d14"
      },
      "outputs": [],
      "source": [
        "# Define your custom Dataset class\n",
        "class SpikeDataset(Dataset):\n",
        "    def __init__(self, data, labels):\n",
        "        self.data = data\n",
        "        self.labels = labels\n",
        "\n",
        "    def __len__(self):\n",
        "        return len(self.data)\n",
        "\n",
        "    def __getitem__(self, idx):\n",
        "      sample = {\n",
        "          \"data\" : torch.Tensor(self.data[idx]),\n",
        "          \"label\" : torch.Tensor(self.labels[idx])\n",
        "      }\n",
        "        # data = self.data[idx],\n",
        "        # label = self.labels[idx]\n",
        "      return sample"
      ]
    },
    {
      "cell_type": "code",
      "source": [
        "len(all_Y[0])"
      ],
      "metadata": {
        "colab": {
          "base_uri": "https://localhost:8080/"
        },
        "id": "icTuc3pMcrNy",
        "outputId": "3df7bbf7-0b6f-4bcf-c86e-93b9b25ea738"
      },
      "id": "icTuc3pMcrNy",
      "execution_count": null,
      "outputs": [
        {
          "output_type": "execute_result",
          "data": {
            "text/plain": [
              "214"
            ]
          },
          "metadata": {},
          "execution_count": 49
        }
      ]
    },
    {
      "cell_type": "code",
      "execution_count": 85,
      "id": "66560e00",
      "metadata": {
        "id": "66560e00"
      },
      "outputs": [],
      "source": [
        "# Convert the list of numpy arrays to PyTorch tensors\n",
        "#.CharTensor\n",
        "#.to(torch.CharTensor)\n",
        "#data = [torch.from_numpy(session).cuda().to(torch.float32) for session in all_spike_data]\n",
        "data = torch.from_numpy(spikes).cuda().to(torch.float32)\n",
        "# Change the data type of each tensor in the list\n",
        "# for i in range(len(data)):\n",
        "#     #print(data[i].dtype)\n",
        "#     #data[i] = data[i].to(cuda0)\n",
        "#     data[i] = data[i].to(torch.float32)\n",
        "labels = [torch.tensor(labels).cuda().to(torch.float32) for labels in all_Y]\n",
        "# for i in range(len(labels)):\n",
        "#     #print(labels[i].dtype)\n",
        "#     #labels[i] = labels[i].to(cuda0)\n",
        "#     labels[i] = labels[i].to(torch.float32)"
      ]
    },
    {
      "cell_type": "code",
      "source": [
        "for da in data:\n",
        "  print(da.shape)\n"
      ],
      "metadata": {
        "id": "k5sR_Q4sr96d"
      },
      "id": "k5sR_Q4sr96d",
      "execution_count": null,
      "outputs": []
    },
    {
      "cell_type": "code",
      "source": [
        "print(len(labels[15]))"
      ],
      "metadata": {
        "id": "a2VwVaZt_Ryq",
        "outputId": "697f6f61-e0d2-4873-88b2-50b2a5bd1e64",
        "colab": {
          "base_uri": "https://localhost:8080/"
        }
      },
      "id": "a2VwVaZt_Ryq",
      "execution_count": 95,
      "outputs": [
        {
          "output_type": "stream",
          "name": "stdout",
          "text": [
            "280\n"
          ]
        }
      ]
    },
    {
      "cell_type": "code",
      "source": [
        "labelsX = labels[0]\n",
        "for lebel in labels:\n",
        "  if (len(lebel) != len(labels[15])) and (len(lebel) != len(labels[0])):\n",
        "    labelsX = torch.cat((labelsX, lebel), dim=0)"
      ],
      "metadata": {
        "id": "0ygfMb5C6lFM"
      },
      "id": "0ygfMb5C6lFM",
      "execution_count": 98,
      "outputs": []
    },
    {
      "cell_type": "code",
      "source": [
        "labelsX.shape"
      ],
      "metadata": {
        "id": "ApEg5OaG8o7N",
        "outputId": "a84f6985-2fdb-4edd-d392-0ed77d0042a0",
        "colab": {
          "base_uri": "https://localhost:8080/"
        }
      },
      "id": "ApEg5OaG8o7N",
      "execution_count": 99,
      "outputs": [
        {
          "output_type": "execute_result",
          "data": {
            "text/plain": [
              "torch.Size([9770])"
            ]
          },
          "metadata": {},
          "execution_count": 99
        }
      ]
    },
    {
      "cell_type": "code",
      "source": [
        "data.shape"
      ],
      "metadata": {
        "id": "EXNmdVLe6zop",
        "outputId": "233fdd98-1d1d-47a4-c97f-4e0fd44bd559",
        "colab": {
          "base_uri": "https://localhost:8080/"
        }
      },
      "id": "EXNmdVLe6zop",
      "execution_count": 76,
      "outputs": [
        {
          "output_type": "execute_result",
          "data": {
            "text/plain": [
              "torch.Size([9770, 130000])"
            ]
          },
          "metadata": {},
          "execution_count": 76
        }
      ]
    },
    {
      "cell_type": "code",
      "execution_count": 100,
      "id": "baf4362d",
      "metadata": {
        "id": "baf4362d"
      },
      "outputs": [],
      "source": [
        "spike_dataset = SpikeDataset(data, labelsX) # session 3"
      ]
    },
    {
      "cell_type": "code",
      "execution_count": 101,
      "id": "00dfc4fa",
      "metadata": {
        "colab": {
          "base_uri": "https://localhost:8080/"
        },
        "id": "00dfc4fa",
        "outputId": "b80f7ec3-4e7f-4c36-9ca3-ccaca7e6b458"
      },
      "outputs": [
        {
          "output_type": "execute_result",
          "data": {
            "text/plain": [
              "130000"
            ]
          },
          "metadata": {},
          "execution_count": 101
        }
      ],
      "source": [
        "len(spike_dataset[0][\"data\"])"
      ]
    },
    {
      "cell_type": "code",
      "execution_count": 102,
      "id": "87caee82",
      "metadata": {
        "colab": {
          "base_uri": "https://localhost:8080/"
        },
        "id": "87caee82",
        "outputId": "73b3bba4-8f3b-48f4-8844-41d24209e7ba"
      },
      "outputs": [
        {
          "output_type": "execute_result",
          "data": {
            "text/plain": [
              "2"
            ]
          },
          "metadata": {},
          "execution_count": 102
        }
      ],
      "source": [
        "len(spike_dataset[0])"
      ]
    },
    {
      "cell_type": "code",
      "execution_count": 123,
      "id": "51e1fbf1",
      "metadata": {
        "id": "51e1fbf1"
      },
      "outputs": [],
      "source": [
        "class SimpleNN(nn.Module):\n",
        "    def __init__(self,input_size,hid_size,out_size=1):\n",
        "        super(SimpleNN, self).__init__()\n",
        "        self.fc1 = nn.Linear(input_size, hid_size)\n",
        "        self.fcM1 = nn.Linear(hid_size, 550)\n",
        "        self.fcM2 = nn.Linear(550, 560)\n",
        "        self.fcM3 = nn.Linear(560, 570)\n",
        "        self.fcM4 = nn.Linear(570, 5100)\n",
        "        self.fcM5 = nn.Linear(5100, 5200)\n",
        "        self.fcM6 = nn.Linear(5200, 5250)\n",
        "        self.fcM7 = nn.Linear(5250, 5300)\n",
        "        self.fcM8 = nn.Linear(5300, 5400)\n",
        "        self.fcM9 = nn.Linear(5400, 5450)\n",
        "        self.fcM10 = nn.Linear(5450, 5500)\n",
        "        self.fc2 = nn.Linear(5500, out_size)  # Adjust the output size based on your task\n",
        "        #self.sigmoid = nn.Sigmoid()\n",
        "\n",
        "    def forward(self, x):\n",
        "        x = torch.relu(self.fc1(x))\n",
        "        x = torch.relu(self.fcM1(x))\n",
        "        x = torch.relu(self.fcM2(x))\n",
        "        x = torch.relu(self.fcM3(x))\n",
        "        x = torch.relu(self.fcM4(x))\n",
        "        x = torch.relu(self.fcM5(x))\n",
        "        x = torch.relu(self.fcM6(x))\n",
        "        x = torch.relu(self.fcM7(x))\n",
        "        x = torch.relu(self.fcM8(x))\n",
        "        x = torch.relu(self.fcM9(x))\n",
        "        x = torch.relu(self.fcM10(x))\n",
        "        x = torch.sigmoid(self.fc2(x))\n",
        "        #x = x.view(x.size(0), -1)  # Flatten the tensor\n",
        "        #x = self.fc2(x)\n",
        "        return x"
      ]
    },
    {
      "cell_type": "code",
      "source": [
        "len(spike_dataset)"
      ],
      "metadata": {
        "colab": {
          "base_uri": "https://localhost:8080/"
        },
        "id": "tDgWw3wM-dYa",
        "outputId": "eb69bfb8-1cdd-4fc6-aeb0-89bd2b1e4636"
      },
      "id": "tDgWw3wM-dYa",
      "execution_count": null,
      "outputs": [
        {
          "output_type": "execute_result",
          "data": {
            "text/plain": [
              "214"
            ]
          },
          "metadata": {},
          "execution_count": 117
        }
      ]
    },
    {
      "cell_type": "code",
      "source": [
        "# Assuming you have a dataset named 'my_dataset'\n",
        "train_ratio = 0.8\n",
        "train_size = int(train_ratio * len(spike_dataset))\n",
        "test_size = len(spike_dataset) - train_size\n",
        "train_dataset, test_dataset = random_split(spike_dataset, [train_size, test_size])"
      ],
      "metadata": {
        "id": "1FmGA6GW-asX"
      },
      "id": "1FmGA6GW-asX",
      "execution_count": 103,
      "outputs": []
    },
    {
      "cell_type": "code",
      "execution_count": 132,
      "id": "c7845b38",
      "metadata": {
        "id": "c7845b38"
      },
      "outputs": [],
      "source": [
        "train_loader = DataLoader(train_dataset, batch_size=32, shuffle=False)\n",
        "test_loader = DataLoader(test_dataset, batch_size=32, shuffle=False)"
      ]
    },
    {
      "cell_type": "code",
      "execution_count": 108,
      "id": "ed5c7920",
      "metadata": {
        "collapsed": true,
        "colab": {
          "base_uri": "https://localhost:8080/"
        },
        "id": "ed5c7920",
        "outputId": "2343b353-ada5-496e-b1c0-1dc402810023"
      },
      "outputs": [
        {
          "output_type": "stream",
          "name": "stdout",
          "text": [
            "16\n"
          ]
        }
      ],
      "source": [
        "# Get the first batch of data\n",
        "dataX = next(iter(train_loader))\n",
        "\n",
        "# Print the batch\n",
        "print(len(dataX[\"label\"]))"
      ]
    },
    {
      "cell_type": "code",
      "execution_count": 109,
      "id": "75971f7e",
      "metadata": {
        "colab": {
          "base_uri": "https://localhost:8080/"
        },
        "id": "75971f7e",
        "outputId": "4caf9a12-7d5a-47a4-9e34-627f8cccae3e"
      },
      "outputs": [
        {
          "output_type": "execute_result",
          "data": {
            "text/plain": [
              "130000"
            ]
          },
          "metadata": {},
          "execution_count": 109
        }
      ],
      "source": [
        "len(spike_dataset[0][\"data\"])"
      ]
    },
    {
      "cell_type": "code",
      "source": [
        "device = torch.device(\"cuda\")\n",
        "#model = model.to(device)"
      ],
      "metadata": {
        "id": "oVKGua9_shaH"
      },
      "id": "oVKGua9_shaH",
      "execution_count": 110,
      "outputs": []
    },
    {
      "cell_type": "code",
      "execution_count": 152,
      "id": "db8b262f",
      "metadata": {
        "id": "db8b262f"
      },
      "outputs": [],
      "source": [
        "model = SimpleNN(len(spike_dataset[0][\"data\"]),64).to(device)\n",
        "# Define your loss function\n",
        "criterion = nn.MSELoss()\n",
        "#criterion = nn.CrossEntropyLoss()\n",
        "# Define your optimizer\n",
        "#optimizer = optim.SGD(model.parameters(), lr=0.00001, momentum=0.9)\n",
        "optimizer = optim.Adam(model.parameters(), lr=0.000001,betas=(0.2,0.222))"
      ]
    },
    {
      "cell_type": "code",
      "source": [
        "summary(model, (32,len(spike_dataset[0][\"data\"])))"
      ],
      "metadata": {
        "colab": {
          "base_uri": "https://localhost:8080/"
        },
        "id": "1tD6eVUfNVF1",
        "outputId": "a3bf7583-a89b-4b73-fee4-39fc6382b94c"
      },
      "id": "1tD6eVUfNVF1",
      "execution_count": 141,
      "outputs": [
        {
          "output_type": "stream",
          "name": "stdout",
          "text": [
            "----------------------------------------------------------------\n",
            "        Layer (type)               Output Shape         Param #\n",
            "================================================================\n",
            "            Linear-1               [-1, 32, 64]       8,320,064\n",
            "            Linear-2              [-1, 32, 550]          35,750\n",
            "            Linear-3              [-1, 32, 560]         308,560\n",
            "            Linear-4              [-1, 32, 570]         319,770\n",
            "            Linear-5             [-1, 32, 5100]       2,912,100\n",
            "            Linear-6             [-1, 32, 5200]      26,525,200\n",
            "            Linear-7             [-1, 32, 5250]      27,305,250\n",
            "            Linear-8             [-1, 32, 5300]      27,830,300\n",
            "            Linear-9             [-1, 32, 5400]      28,625,400\n",
            "           Linear-10             [-1, 32, 5450]      29,435,450\n",
            "           Linear-11             [-1, 32, 5500]      29,980,500\n",
            "           Linear-12                [-1, 32, 1]           5,501\n",
            "================================================================\n",
            "Total params: 181,603,845\n",
            "Trainable params: 181,603,845\n",
            "Non-trainable params: 0\n",
            "----------------------------------------------------------------\n",
            "Input size (MB): 15.87\n",
            "Forward/backward pass size (MB): 9.51\n",
            "Params size (MB): 692.76\n",
            "Estimated Total Size (MB): 718.14\n",
            "----------------------------------------------------------------\n"
          ]
        }
      ]
    },
    {
      "cell_type": "code",
      "source": [],
      "metadata": {
        "id": "MAn2noKeJRIp"
      },
      "id": "MAn2noKeJRIp",
      "execution_count": 136,
      "outputs": []
    },
    {
      "cell_type": "markdown",
      "source": [
        "# **Accuracy: 0.6821903787103377\n",
        "# F1 Score: 0.8110739275935503**"
      ],
      "metadata": {
        "id": "S5NiAEJQJTnW"
      },
      "id": "S5NiAEJQJTnW"
    },
    {
      "cell_type": "code",
      "execution_count": 153,
      "id": "69ef2879",
      "metadata": {
        "colab": {
          "base_uri": "https://localhost:8080/",
          "height": 1000
        },
        "id": "69ef2879",
        "outputId": "b339dd65-80b1-4383-aac4-2f8df78ff0bf"
      },
      "outputs": [
        {
          "output_type": "stream",
          "name": "stdout",
          "text": [
            "tensor(0.2522, device='cuda:0', grad_fn=<MseLossBackward0>)\n",
            "tensor(0.2507, device='cuda:0', grad_fn=<MseLossBackward0>)\n",
            "tensor(0.2518, device='cuda:0', grad_fn=<MseLossBackward0>)\n",
            "tensor(0.2506, device='cuda:0', grad_fn=<MseLossBackward0>)\n",
            "tensor(0.2516, device='cuda:0', grad_fn=<MseLossBackward0>)\n",
            "tensor(0.2510, device='cuda:0', grad_fn=<MseLossBackward0>)\n",
            "tensor(0.2505, device='cuda:0', grad_fn=<MseLossBackward0>)\n",
            "tensor(0.2519, device='cuda:0', grad_fn=<MseLossBackward0>)\n",
            "tensor(0.2511, device='cuda:0', grad_fn=<MseLossBackward0>)\n",
            "tensor(0.2514, device='cuda:0', grad_fn=<MseLossBackward0>)\n",
            "tensor(0.2514, device='cuda:0', grad_fn=<MseLossBackward0>)\n",
            "tensor(0.2516, device='cuda:0', grad_fn=<MseLossBackward0>)\n",
            "tensor(0.2510, device='cuda:0', grad_fn=<MseLossBackward0>)\n",
            "tensor(0.2507, device='cuda:0', grad_fn=<MseLossBackward0>)\n",
            "tensor(0.2508, device='cuda:0', grad_fn=<MseLossBackward0>)\n",
            "tensor(0.2502, device='cuda:0', grad_fn=<MseLossBackward0>)\n",
            "tensor(0.2506, device='cuda:0', grad_fn=<MseLossBackward0>)\n",
            "tensor(0.2503, device='cuda:0', grad_fn=<MseLossBackward0>)\n",
            "tensor(0.2504, device='cuda:0', grad_fn=<MseLossBackward0>)\n",
            "tensor(0.2504, device='cuda:0', grad_fn=<MseLossBackward0>)\n",
            "tensor(0.2502, device='cuda:0', grad_fn=<MseLossBackward0>)\n",
            "tensor(0.2502, device='cuda:0', grad_fn=<MseLossBackward0>)\n",
            "tensor(0.2501, device='cuda:0', grad_fn=<MseLossBackward0>)\n",
            "tensor(0.2501, device='cuda:0', grad_fn=<MseLossBackward0>)\n",
            "tensor(0.2500, device='cuda:0', grad_fn=<MseLossBackward0>)\n",
            "tensor(0.2499, device='cuda:0', grad_fn=<MseLossBackward0>)\n",
            "tensor(0.2499, device='cuda:0', grad_fn=<MseLossBackward0>)\n",
            "tensor(0.2498, device='cuda:0', grad_fn=<MseLossBackward0>)\n",
            "tensor(0.2497, device='cuda:0', grad_fn=<MseLossBackward0>)\n",
            "tensor(0.2498, device='cuda:0', grad_fn=<MseLossBackward0>)\n",
            "tensor(0.2498, device='cuda:0', grad_fn=<MseLossBackward0>)\n",
            "tensor(0.2493, device='cuda:0', grad_fn=<MseLossBackward0>)\n",
            "tensor(0.2495, device='cuda:0', grad_fn=<MseLossBackward0>)\n",
            "tensor(0.2493, device='cuda:0', grad_fn=<MseLossBackward0>)\n",
            "tensor(0.2489, device='cuda:0', grad_fn=<MseLossBackward0>)\n",
            "tensor(0.2499, device='cuda:0', grad_fn=<MseLossBackward0>)\n",
            "tensor(0.2490, device='cuda:0', grad_fn=<MseLossBackward0>)\n",
            "tensor(0.2493, device='cuda:0', grad_fn=<MseLossBackward0>)\n",
            "tensor(0.2491, device='cuda:0', grad_fn=<MseLossBackward0>)\n",
            "tensor(0.2493, device='cuda:0', grad_fn=<MseLossBackward0>)\n",
            "tensor(0.2488, device='cuda:0', grad_fn=<MseLossBackward0>)\n",
            "tensor(0.2487, device='cuda:0', grad_fn=<MseLossBackward0>)\n",
            "tensor(0.2495, device='cuda:0', grad_fn=<MseLossBackward0>)\n",
            "tensor(0.2493, device='cuda:0', grad_fn=<MseLossBackward0>)\n",
            "tensor(0.2491, device='cuda:0', grad_fn=<MseLossBackward0>)\n",
            "tensor(0.2496, device='cuda:0', grad_fn=<MseLossBackward0>)\n",
            "tensor(0.2483, device='cuda:0', grad_fn=<MseLossBackward0>)\n",
            "tensor(0.2478, device='cuda:0', grad_fn=<MseLossBackward0>)\n",
            "tensor(0.2486, device='cuda:0', grad_fn=<MseLossBackward0>)\n",
            "tensor(0.2481, device='cuda:0', grad_fn=<MseLossBackward0>)\n",
            "tensor(0.2485, device='cuda:0', grad_fn=<MseLossBackward0>)\n",
            "tensor(0.2490, device='cuda:0', grad_fn=<MseLossBackward0>)\n",
            "tensor(0.2479, device='cuda:0', grad_fn=<MseLossBackward0>)\n",
            "tensor(0.2486, device='cuda:0', grad_fn=<MseLossBackward0>)\n",
            "tensor(0.2474, device='cuda:0', grad_fn=<MseLossBackward0>)\n",
            "tensor(0.2491, device='cuda:0', grad_fn=<MseLossBackward0>)\n",
            "tensor(0.2479, device='cuda:0', grad_fn=<MseLossBackward0>)\n",
            "tensor(0.2497, device='cuda:0', grad_fn=<MseLossBackward0>)\n",
            "tensor(0.2468, device='cuda:0', grad_fn=<MseLossBackward0>)\n",
            "tensor(0.2467, device='cuda:0', grad_fn=<MseLossBackward0>)\n",
            "tensor(0.2483, device='cuda:0', grad_fn=<MseLossBackward0>)\n",
            "tensor(0.2475, device='cuda:0', grad_fn=<MseLossBackward0>)\n",
            "tensor(0.2456, device='cuda:0', grad_fn=<MseLossBackward0>)\n",
            "tensor(0.2482, device='cuda:0', grad_fn=<MseLossBackward0>)\n",
            "tensor(0.2473, device='cuda:0', grad_fn=<MseLossBackward0>)\n",
            "tensor(0.2469, device='cuda:0', grad_fn=<MseLossBackward0>)\n",
            "tensor(0.2460, device='cuda:0', grad_fn=<MseLossBackward0>)\n",
            "tensor(0.2496, device='cuda:0', grad_fn=<MseLossBackward0>)\n",
            "tensor(0.2484, device='cuda:0', grad_fn=<MseLossBackward0>)\n",
            "tensor(0.2466, device='cuda:0', grad_fn=<MseLossBackward0>)\n",
            "tensor(0.2483, device='cuda:0', grad_fn=<MseLossBackward0>)\n",
            "tensor(0.2469, device='cuda:0', grad_fn=<MseLossBackward0>)\n",
            "tensor(0.2473, device='cuda:0', grad_fn=<MseLossBackward0>)\n",
            "tensor(0.2453, device='cuda:0', grad_fn=<MseLossBackward0>)\n",
            "tensor(0.2481, device='cuda:0', grad_fn=<MseLossBackward0>)\n",
            "tensor(0.2466, device='cuda:0', grad_fn=<MseLossBackward0>)\n",
            "tensor(0.2465, device='cuda:0', grad_fn=<MseLossBackward0>)\n",
            "tensor(0.2475, device='cuda:0', grad_fn=<MseLossBackward0>)\n",
            "tensor(0.2437, device='cuda:0', grad_fn=<MseLossBackward0>)\n",
            "tensor(0.2458, device='cuda:0', grad_fn=<MseLossBackward0>)\n",
            "tensor(0.2457, device='cuda:0', grad_fn=<MseLossBackward0>)\n",
            "tensor(0.2484, device='cuda:0', grad_fn=<MseLossBackward0>)\n",
            "tensor(0.2461, device='cuda:0', grad_fn=<MseLossBackward0>)\n",
            "tensor(0.2466, device='cuda:0', grad_fn=<MseLossBackward0>)\n",
            "tensor(0.2442, device='cuda:0', grad_fn=<MseLossBackward0>)\n",
            "tensor(0.2465, device='cuda:0', grad_fn=<MseLossBackward0>)\n",
            "tensor(0.2458, device='cuda:0', grad_fn=<MseLossBackward0>)\n",
            "tensor(0.2476, device='cuda:0', grad_fn=<MseLossBackward0>)\n",
            "tensor(0.2431, device='cuda:0', grad_fn=<MseLossBackward0>)\n",
            "tensor(0.2436, device='cuda:0', grad_fn=<MseLossBackward0>)\n",
            "tensor(0.2449, device='cuda:0', grad_fn=<MseLossBackward0>)\n",
            "tensor(0.2474, device='cuda:0', grad_fn=<MseLossBackward0>)\n",
            "tensor(0.2467, device='cuda:0', grad_fn=<MseLossBackward0>)\n",
            "tensor(0.2481, device='cuda:0', grad_fn=<MseLossBackward0>)\n",
            "tensor(0.2445, device='cuda:0', grad_fn=<MseLossBackward0>)\n",
            "tensor(0.2430, device='cuda:0', grad_fn=<MseLossBackward0>)\n",
            "tensor(0.2429, device='cuda:0', grad_fn=<MseLossBackward0>)\n",
            "tensor(0.2465, device='cuda:0', grad_fn=<MseLossBackward0>)\n",
            "tensor(0.2442, device='cuda:0', grad_fn=<MseLossBackward0>)\n",
            "tensor(0.2448, device='cuda:0', grad_fn=<MseLossBackward0>)\n",
            "tensor(0.2448, device='cuda:0', grad_fn=<MseLossBackward0>)\n",
            "tensor(0.2439, device='cuda:0', grad_fn=<MseLossBackward0>)\n",
            "tensor(0.2454, device='cuda:0', grad_fn=<MseLossBackward0>)\n",
            "tensor(0.2469, device='cuda:0', grad_fn=<MseLossBackward0>)\n",
            "tensor(0.2436, device='cuda:0', grad_fn=<MseLossBackward0>)\n",
            "tensor(0.2485, device='cuda:0', grad_fn=<MseLossBackward0>)\n",
            "tensor(0.2452, device='cuda:0', grad_fn=<MseLossBackward0>)\n",
            "tensor(0.2468, device='cuda:0', grad_fn=<MseLossBackward0>)\n",
            "tensor(0.2493, device='cuda:0', grad_fn=<MseLossBackward0>)\n",
            "tensor(0.2467, device='cuda:0', grad_fn=<MseLossBackward0>)\n",
            "tensor(0.2423, device='cuda:0', grad_fn=<MseLossBackward0>)\n",
            "tensor(0.2449, device='cuda:0', grad_fn=<MseLossBackward0>)\n",
            "tensor(0.2466, device='cuda:0', grad_fn=<MseLossBackward0>)\n",
            "tensor(0.2475, device='cuda:0', grad_fn=<MseLossBackward0>)\n",
            "tensor(0.2484, device='cuda:0', grad_fn=<MseLossBackward0>)\n",
            "tensor(0.2437, device='cuda:0', grad_fn=<MseLossBackward0>)\n",
            "tensor(0.2455, device='cuda:0', grad_fn=<MseLossBackward0>)\n",
            "tensor(0.2425, device='cuda:0', grad_fn=<MseLossBackward0>)\n",
            "tensor(0.2424, device='cuda:0', grad_fn=<MseLossBackward0>)\n",
            "tensor(0.2473, device='cuda:0', grad_fn=<MseLossBackward0>)\n",
            "tensor(0.2453, device='cuda:0', grad_fn=<MseLossBackward0>)\n",
            "tensor(0.2442, device='cuda:0', grad_fn=<MseLossBackward0>)\n",
            "tensor(0.2421, device='cuda:0', grad_fn=<MseLossBackward0>)\n",
            "tensor(0.2430, device='cuda:0', grad_fn=<MseLossBackward0>)\n",
            "tensor(0.2471, device='cuda:0', grad_fn=<MseLossBackward0>)\n",
            "tensor(0.2418, device='cuda:0', grad_fn=<MseLossBackward0>)\n",
            "tensor(0.2460, device='cuda:0', grad_fn=<MseLossBackward0>)\n",
            "tensor(0.2449, device='cuda:0', grad_fn=<MseLossBackward0>)\n",
            "tensor(0.2448, device='cuda:0', grad_fn=<MseLossBackward0>)\n",
            "tensor(0.2425, device='cuda:0', grad_fn=<MseLossBackward0>)\n",
            "tensor(0.2458, device='cuda:0', grad_fn=<MseLossBackward0>)\n",
            "tensor(0.2458, device='cuda:0', grad_fn=<MseLossBackward0>)\n",
            "tensor(0.2492, device='cuda:0', grad_fn=<MseLossBackward0>)\n",
            "tensor(0.2388, device='cuda:0', grad_fn=<MseLossBackward0>)\n",
            "tensor(0.2457, device='cuda:0', grad_fn=<MseLossBackward0>)\n",
            "tensor(0.2421, device='cuda:0', grad_fn=<MseLossBackward0>)\n",
            "tensor(0.2480, device='cuda:0', grad_fn=<MseLossBackward0>)\n",
            "tensor(0.2431, device='cuda:0', grad_fn=<MseLossBackward0>)\n",
            "tensor(0.2479, device='cuda:0', grad_fn=<MseLossBackward0>)\n",
            "tensor(0.2442, device='cuda:0', grad_fn=<MseLossBackward0>)\n",
            "tensor(0.2442, device='cuda:0', grad_fn=<MseLossBackward0>)\n",
            "tensor(0.2429, device='cuda:0', grad_fn=<MseLossBackward0>)\n",
            "tensor(0.2377, device='cuda:0', grad_fn=<MseLossBackward0>)\n",
            "tensor(0.2440, device='cuda:0', grad_fn=<MseLossBackward0>)\n",
            "tensor(0.2427, device='cuda:0', grad_fn=<MseLossBackward0>)\n",
            "tensor(0.2399, device='cuda:0', grad_fn=<MseLossBackward0>)\n",
            "tensor(0.2451, device='cuda:0', grad_fn=<MseLossBackward0>)\n",
            "tensor(0.2424, device='cuda:0', grad_fn=<MseLossBackward0>)\n",
            "tensor(0.2410, device='cuda:0', grad_fn=<MseLossBackward0>)\n",
            "tensor(0.2436, device='cuda:0', grad_fn=<MseLossBackward0>)\n",
            "tensor(0.2450, device='cuda:0', grad_fn=<MseLossBackward0>)\n",
            "tensor(0.2435, device='cuda:0', grad_fn=<MseLossBackward0>)\n",
            "tensor(0.2420, device='cuda:0', grad_fn=<MseLossBackward0>)\n",
            "tensor(0.2420, device='cuda:0', grad_fn=<MseLossBackward0>)\n",
            "tensor(0.2505, device='cuda:0', grad_fn=<MseLossBackward0>)\n",
            "tensor(0.2448, device='cuda:0', grad_fn=<MseLossBackward0>)\n",
            "tensor(0.2389, device='cuda:0', grad_fn=<MseLossBackward0>)\n",
            "tensor(0.2402, device='cuda:0', grad_fn=<MseLossBackward0>)\n",
            "tensor(0.2371, device='cuda:0', grad_fn=<MseLossBackward0>)\n",
            "tensor(0.2400, device='cuda:0', grad_fn=<MseLossBackward0>)\n",
            "tensor(0.2475, device='cuda:0', grad_fn=<MseLossBackward0>)\n",
            "tensor(0.2383, device='cuda:0', grad_fn=<MseLossBackward0>)\n",
            "tensor(0.2382, device='cuda:0', grad_fn=<MseLossBackward0>)\n",
            "tensor(0.2381, device='cuda:0', grad_fn=<MseLossBackward0>)\n",
            "tensor(0.2412, device='cuda:0', grad_fn=<MseLossBackward0>)\n",
            "tensor(0.2379, device='cuda:0', grad_fn=<MseLossBackward0>)\n",
            "tensor(0.2362, device='cuda:0', grad_fn=<MseLossBackward0>)\n",
            "tensor(0.2377, device='cuda:0', grad_fn=<MseLossBackward0>)\n",
            "tensor(0.2474, device='cuda:0', grad_fn=<MseLossBackward0>)\n",
            "tensor(0.2474, device='cuda:0', grad_fn=<MseLossBackward0>)\n",
            "tensor(0.2391, device='cuda:0', grad_fn=<MseLossBackward0>)\n",
            "tensor(0.2423, device='cuda:0', grad_fn=<MseLossBackward0>)\n",
            "tensor(0.2456, device='cuda:0', grad_fn=<MseLossBackward0>)\n",
            "tensor(0.2439, device='cuda:0', grad_fn=<MseLossBackward0>)\n",
            "tensor(0.2369, device='cuda:0', grad_fn=<MseLossBackward0>)\n",
            "tensor(0.2368, device='cuda:0', grad_fn=<MseLossBackward0>)\n",
            "tensor(0.2508, device='cuda:0', grad_fn=<MseLossBackward0>)\n",
            "tensor(0.2349, device='cuda:0', grad_fn=<MseLossBackward0>)\n",
            "tensor(0.2401, device='cuda:0', grad_fn=<MseLossBackward0>)\n",
            "tensor(0.2454, device='cuda:0', grad_fn=<MseLossBackward0>)\n",
            "tensor(0.2454, device='cuda:0', grad_fn=<MseLossBackward0>)\n",
            "tensor(0.2380, device='cuda:0', grad_fn=<MseLossBackward0>)\n",
            "tensor(0.2287, device='cuda:0', grad_fn=<MseLossBackward0>)\n",
            "tensor(0.2415, device='cuda:0', grad_fn=<MseLossBackward0>)\n",
            "tensor(0.2396, device='cuda:0', grad_fn=<MseLossBackward0>)\n",
            "tensor(0.2395, device='cuda:0', grad_fn=<MseLossBackward0>)\n",
            "tensor(0.2471, device='cuda:0', grad_fn=<MseLossBackward0>)\n",
            "tensor(0.2393, device='cuda:0', grad_fn=<MseLossBackward0>)\n",
            "tensor(0.2314, device='cuda:0', grad_fn=<MseLossBackward0>)\n",
            "tensor(0.2373, device='cuda:0', grad_fn=<MseLossBackward0>)\n",
            "tensor(0.2371, device='cuda:0', grad_fn=<MseLossBackward0>)\n",
            "tensor(0.2410, device='cuda:0', grad_fn=<MseLossBackward0>)\n",
            "tensor(0.2511, device='cuda:0', grad_fn=<MseLossBackward0>)\n",
            "tensor(0.2429, device='cuda:0', grad_fn=<MseLossBackward0>)\n",
            "tensor(0.2367, device='cuda:0', grad_fn=<MseLossBackward0>)\n",
            "tensor(0.2470, device='cuda:0', grad_fn=<MseLossBackward0>)\n",
            "tensor(0.2490, device='cuda:0', grad_fn=<MseLossBackward0>)\n",
            "tensor(0.2344, device='cuda:0', grad_fn=<MseLossBackward0>)\n",
            "tensor(0.2406, device='cuda:0', grad_fn=<MseLossBackward0>)\n",
            "tensor(0.2469, device='cuda:0', grad_fn=<MseLossBackward0>)\n",
            "tensor(0.2384, device='cuda:0', grad_fn=<MseLossBackward0>)\n",
            "tensor(0.2295, device='cuda:0', grad_fn=<MseLossBackward0>)\n",
            "tensor(0.2317, device='cuda:0', grad_fn=<MseLossBackward0>)\n",
            "tensor(0.2359, device='cuda:0', grad_fn=<MseLossBackward0>)\n",
            "tensor(0.2379, device='cuda:0', grad_fn=<MseLossBackward0>)\n",
            "tensor(0.2446, device='cuda:0', grad_fn=<MseLossBackward0>)\n",
            "tensor(0.2423, device='cuda:0', grad_fn=<MseLossBackward0>)\n",
            "tensor(0.2285, device='cuda:0', grad_fn=<MseLossBackward0>)\n",
            "tensor(0.2491, device='cuda:0', grad_fn=<MseLossBackward0>)\n",
            "tensor(0.2398, device='cuda:0', grad_fn=<MseLossBackward0>)\n",
            "tensor(0.2351, device='cuda:0', grad_fn=<MseLossBackward0>)\n",
            "tensor(0.2444, device='cuda:0', grad_fn=<MseLossBackward0>)\n",
            "tensor(0.2514, device='cuda:0', grad_fn=<MseLossBackward0>)\n",
            "tensor(0.2279, device='cuda:0', grad_fn=<MseLossBackward0>)\n",
            "tensor(0.2348, device='cuda:0', grad_fn=<MseLossBackward0>)\n",
            "tensor(0.2299, device='cuda:0', grad_fn=<MseLossBackward0>)\n",
            "tensor(0.2321, device='cuda:0', grad_fn=<MseLossBackward0>)\n",
            "tensor(0.2245, device='cuda:0', grad_fn=<MseLossBackward0>)\n",
            "tensor(0.2343, device='cuda:0', grad_fn=<MseLossBackward0>)\n",
            "tensor(0.2466, device='cuda:0', grad_fn=<MseLossBackward0>)\n",
            "tensor(0.2441, device='cuda:0', grad_fn=<MseLossBackward0>)\n",
            "tensor(0.2288, device='cuda:0', grad_fn=<MseLossBackward0>)\n",
            "tensor(0.2389, device='cuda:0', grad_fn=<MseLossBackward0>)\n",
            "tensor(0.2388, device='cuda:0', grad_fn=<MseLossBackward0>)\n",
            "tensor(0.2387, device='cuda:0', grad_fn=<MseLossBackward0>)\n",
            "tensor(0.2334, device='cuda:0', grad_fn=<MseLossBackward0>)\n",
            "tensor(0.2359, device='cuda:0', grad_fn=<MseLossBackward0>)\n",
            "tensor(0.2332, device='cuda:0', grad_fn=<MseLossBackward0>)\n",
            "tensor(0.2328, device='cuda:0', grad_fn=<MseLossBackward0>)\n",
            "tensor(0.2464, device='cuda:0', grad_fn=<MseLossBackward0>)\n",
            "tensor(0.2328, device='cuda:0', grad_fn=<MseLossBackward0>)\n",
            "tensor(0.2353, device='cuda:0', grad_fn=<MseLossBackward0>)\n",
            "tensor(0.2380, device='cuda:0', grad_fn=<MseLossBackward0>)\n",
            "tensor(0.2380, device='cuda:0', grad_fn=<MseLossBackward0>)\n",
            "tensor(0.2322, device='cuda:0', grad_fn=<MseLossBackward0>)\n",
            "tensor(0.2321, device='cuda:0', grad_fn=<MseLossBackward0>)\n",
            "tensor(0.2320, device='cuda:0', grad_fn=<MseLossBackward0>)\n",
            "tensor(0.2434, device='cuda:0', grad_fn=<MseLossBackward0>)\n",
            "tensor(0.2284, device='cuda:0', grad_fn=<MseLossBackward0>)\n",
            "tensor(0.2402, device='cuda:0', grad_fn=<MseLossBackward0>)\n",
            "tensor(0.2221, device='cuda:0', grad_fn=<MseLossBackward0>)\n",
            "tensor(0.2282, device='cuda:0', grad_fn=<MseLossBackward0>)\n",
            "tensor(0.2340, device='cuda:0', grad_fn=<MseLossBackward0>)\n",
            "tensor(0.2338, device='cuda:0', grad_fn=<MseLossBackward0>)\n",
            "tensor(0.2398, device='cuda:0', grad_fn=<MseLossBackward0>)\n",
            "tensor(0.2240, device='cuda:0', grad_fn=<MseLossBackward0>)\n",
            "tensor(0.2430, device='cuda:0', grad_fn=<MseLossBackward0>)\n",
            "tensor(0.2270, device='cuda:0', grad_fn=<MseLossBackward0>)\n",
            "tensor(0.2430, device='cuda:0', grad_fn=<MseLossBackward0>)\n",
            "tensor(0.2266, device='cuda:0', grad_fn=<MseLossBackward0>)\n",
            "tensor(0.2362, device='cuda:0', grad_fn=<MseLossBackward0>)\n",
            "tensor(0.2428, device='cuda:0', grad_fn=<MseLossBackward0>)\n",
            "tensor(0.2158, device='cuda:0', grad_fn=<MseLossBackward0>)\n",
            "tensor(0.2295, device='cuda:0', grad_fn=<MseLossBackward0>)\n",
            "tensor(0.2221, device='cuda:0', grad_fn=<MseLossBackward0>)\n",
            "tensor(0.2182, device='cuda:0', grad_fn=<MseLossBackward0>)\n",
            "tensor(0.2108, device='cuda:0', grad_fn=<MseLossBackward0>)\n",
            "tensor(0.2249, device='cuda:0', grad_fn=<MseLossBackward0>)\n",
            "tensor(0.2317, device='cuda:0', grad_fn=<MseLossBackward0>)\n",
            "tensor(0.2246, device='cuda:0', grad_fn=<MseLossBackward0>)\n",
            "tensor(0.2461, device='cuda:0', grad_fn=<MseLossBackward0>)\n",
            "tensor(0.2280, device='cuda:0', grad_fn=<MseLossBackward0>)\n",
            "tensor(0.2387, device='cuda:0', grad_fn=<MseLossBackward0>)\n",
            "tensor(0.2274, device='cuda:0', grad_fn=<MseLossBackward0>)\n",
            "tensor(0.2275, device='cuda:0', grad_fn=<MseLossBackward0>)\n",
            "tensor(0.2345, device='cuda:0', grad_fn=<MseLossBackward0>)\n",
            "tensor(0.2345, device='cuda:0', grad_fn=<MseLossBackward0>)\n",
            "tensor(0.2384, device='cuda:0', grad_fn=<MseLossBackward0>)\n",
            "tensor(0.2265, device='cuda:0', grad_fn=<MseLossBackward0>)\n",
            "tensor(0.2342, device='cuda:0', grad_fn=<MseLossBackward0>)\n",
            "tensor(0.2176, device='cuda:0', grad_fn=<MseLossBackward0>)\n",
            "tensor(0.2381, device='cuda:0', grad_fn=<MseLossBackward0>)\n",
            "tensor(0.2259, device='cuda:0', grad_fn=<MseLossBackward0>)\n",
            "tensor(0.2211, device='cuda:0', grad_fn=<MseLossBackward0>)\n",
            "tensor(0.2378, device='cuda:0', grad_fn=<MseLossBackward0>)\n",
            "tensor(0.2378, device='cuda:0', grad_fn=<MseLossBackward0>)\n",
            "tensor(0.2121, device='cuda:0', grad_fn=<MseLossBackward0>)\n",
            "tensor(0.2246, device='cuda:0', grad_fn=<MseLossBackward0>)\n",
            "tensor(0.2202, device='cuda:0', grad_fn=<MseLossBackward0>)\n",
            "tensor(0.2064, device='cuda:0', grad_fn=<MseLossBackward0>)\n",
            "tensor(0.2506, device='cuda:0', grad_fn=<MseLossBackward0>)\n",
            "tensor(0.2151, device='cuda:0', grad_fn=<MseLossBackward0>)\n",
            "tensor(0.2283, device='cuda:0', grad_fn=<MseLossBackward0>)\n",
            "tensor(0.2237, device='cuda:0', grad_fn=<MseLossBackward0>)\n",
            "tensor(0.2325, device='cuda:0', grad_fn=<MseLossBackward0>)\n",
            "tensor(0.2180, device='cuda:0', grad_fn=<MseLossBackward0>)\n",
            "tensor(0.2182, device='cuda:0', grad_fn=<MseLossBackward0>)\n",
            "tensor(0.2416, device='cuda:0', grad_fn=<MseLossBackward0>)\n",
            "tensor(0.2368, device='cuda:0', grad_fn=<MseLossBackward0>)\n",
            "tensor(0.2317, device='cuda:0', grad_fn=<MseLossBackward0>)\n",
            "tensor(0.2464, device='cuda:0', grad_fn=<MseLossBackward0>)\n",
            "tensor(0.2164, device='cuda:0', grad_fn=<MseLossBackward0>)\n",
            "tensor(0.2069, device='cuda:0', grad_fn=<MseLossBackward0>)\n",
            "tensor(0.2265, device='cuda:0', grad_fn=<MseLossBackward0>)\n",
            "tensor(0.2160, device='cuda:0', grad_fn=<MseLossBackward0>)\n",
            "tensor(0.2262, device='cuda:0', grad_fn=<MseLossBackward0>)\n",
            "tensor(0.2363, device='cuda:0', grad_fn=<MseLossBackward0>)\n",
            "tensor(0.2150, device='cuda:0', grad_fn=<MseLossBackward0>)\n",
            "tensor(0.2307, device='cuda:0', grad_fn=<MseLossBackward0>)\n",
            "tensor(0.2094, device='cuda:0', grad_fn=<MseLossBackward0>)\n",
            "tensor(0.2413, device='cuda:0', grad_fn=<MseLossBackward0>)\n",
            "tensor(0.2194, device='cuda:0', grad_fn=<MseLossBackward0>)\n",
            "tensor(0.2521, device='cuda:0', grad_fn=<MseLossBackward0>)\n",
            "tensor(0.2033, device='cuda:0', grad_fn=<MseLossBackward0>)\n",
            "tensor(0.2028, device='cuda:0', grad_fn=<MseLossBackward0>)\n",
            "tensor(0.2302, device='cuda:0', grad_fn=<MseLossBackward0>)\n",
            "tensor(0.2190, device='cuda:0', grad_fn=<MseLossBackward0>)\n",
            "tensor(0.1915, device='cuda:0', grad_fn=<MseLossBackward0>)\n",
            "tensor(0.2298, device='cuda:0', grad_fn=<MseLossBackward0>)\n",
            "tensor(0.2183, device='cuda:0', grad_fn=<MseLossBackward0>)\n",
            "tensor(0.2118, device='cuda:0', grad_fn=<MseLossBackward0>)\n",
            "tensor(0.2001, device='cuda:0', grad_fn=<MseLossBackward0>)\n",
            "tensor(0.2532, device='cuda:0', grad_fn=<MseLossBackward0>)\n",
            "tensor(0.2352, device='cuda:0', grad_fn=<MseLossBackward0>)\n",
            "tensor(0.2109, device='cuda:0', grad_fn=<MseLossBackward0>)\n",
            "tensor(0.2352, device='cuda:0', grad_fn=<MseLossBackward0>)\n",
            "tensor(0.2166, device='cuda:0', grad_fn=<MseLossBackward0>)\n",
            "tensor(0.2224, device='cuda:0', grad_fn=<MseLossBackward0>)\n",
            "tensor(0.1959, device='cuda:0', grad_fn=<MseLossBackward0>)\n",
            "tensor(0.2350, device='cuda:0', grad_fn=<MseLossBackward0>)\n",
            "tensor(0.2161, device='cuda:0', grad_fn=<MseLossBackward0>)\n",
            "tensor(0.2159, device='cuda:0', grad_fn=<MseLossBackward0>)\n",
            "tensor(0.2283, device='cuda:0', grad_fn=<MseLossBackward0>)\n",
            "tensor(0.1811, device='cuda:0', grad_fn=<MseLossBackward0>)\n",
            "tensor(0.2081, device='cuda:0', grad_fn=<MseLossBackward0>)\n",
            "tensor(0.2079, device='cuda:0', grad_fn=<MseLossBackward0>)\n",
            "tensor(0.2416, device='cuda:0', grad_fn=<MseLossBackward0>)\n",
            "tensor(0.2144, device='cuda:0', grad_fn=<MseLossBackward0>)\n",
            "tensor(0.2207, device='cuda:0', grad_fn=<MseLossBackward0>)\n",
            "tensor(0.1919, device='cuda:0', grad_fn=<MseLossBackward0>)\n",
            "tensor(0.2204, device='cuda:0', grad_fn=<MseLossBackward0>)\n",
            "tensor(0.2131, device='cuda:0', grad_fn=<MseLossBackward0>)\n",
            "tensor(0.2346, device='cuda:0', grad_fn=<MseLossBackward0>)\n",
            "tensor(0.1836, device='cuda:0', grad_fn=<MseLossBackward0>)\n",
            "tensor(0.1891, device='cuda:0', grad_fn=<MseLossBackward0>)\n",
            "tensor(0.2052, device='cuda:0', grad_fn=<MseLossBackward0>)\n",
            "tensor(0.2346, device='cuda:0', grad_fn=<MseLossBackward0>)\n",
            "tensor(0.2270, device='cuda:0', grad_fn=<MseLossBackward0>)\n",
            "tensor(0.2426, device='cuda:0', grad_fn=<MseLossBackward0>)\n",
            "tensor(0.2029, device='cuda:0', grad_fn=<MseLossBackward0>)\n",
            "tensor(0.1860, device='cuda:0', grad_fn=<MseLossBackward0>)\n",
            "tensor(0.1860, device='cuda:0', grad_fn=<MseLossBackward0>)\n",
            "tensor(0.2267, device='cuda:0', grad_fn=<MseLossBackward0>)\n",
            "tensor(0.2035, device='cuda:0', grad_fn=<MseLossBackward0>)\n",
            "tensor(0.2100, device='cuda:0', grad_fn=<MseLossBackward0>)\n",
            "tensor(0.2106, device='cuda:0', grad_fn=<MseLossBackward0>)\n",
            "tensor(0.2002, device='cuda:0', grad_fn=<MseLossBackward0>)\n",
            "tensor(0.2181, device='cuda:0', grad_fn=<MseLossBackward0>)\n",
            "tensor(0.2351, device='cuda:0', grad_fn=<MseLossBackward0>)\n",
            "tensor(0.1998, device='cuda:0', grad_fn=<MseLossBackward0>)\n",
            "tensor(0.2529, device='cuda:0', grad_fn=<MseLossBackward0>)\n",
            "tensor(0.2178, device='cuda:0', grad_fn=<MseLossBackward0>)\n",
            "tensor(0.2348, device='cuda:0', grad_fn=<MseLossBackward0>)\n",
            "tensor(0.2612, device='cuda:0', grad_fn=<MseLossBackward0>)\n",
            "tensor(0.2347, device='cuda:0', grad_fn=<MseLossBackward0>)\n",
            "tensor(0.1930, device='cuda:0', grad_fn=<MseLossBackward0>)\n",
            "tensor(0.2179, device='cuda:0', grad_fn=<MseLossBackward0>)\n",
            "tensor(0.2348, device='cuda:0', grad_fn=<MseLossBackward0>)\n",
            "tensor(0.2430, device='cuda:0', grad_fn=<MseLossBackward0>)\n",
            "tensor(0.2521, device='cuda:0', grad_fn=<MseLossBackward0>)\n",
            "tensor(0.2099, device='cuda:0', grad_fn=<MseLossBackward0>)\n",
            "tensor(0.2263, device='cuda:0', grad_fn=<MseLossBackward0>)\n",
            "tensor(0.2013, device='cuda:0', grad_fn=<MseLossBackward0>)\n",
            "tensor(0.2003, device='cuda:0', grad_fn=<MseLossBackward0>)\n",
            "tensor(0.2434, device='cuda:0', grad_fn=<MseLossBackward0>)\n",
            "tensor(0.2261, device='cuda:0', grad_fn=<MseLossBackward0>)\n",
            "tensor(0.2176, device='cuda:0', grad_fn=<MseLossBackward0>)\n",
            "tensor(0.2001, device='cuda:0', grad_fn=<MseLossBackward0>)\n",
            "tensor(0.2084, device='cuda:0', grad_fn=<MseLossBackward0>)\n",
            "tensor(0.2435, device='cuda:0', grad_fn=<MseLossBackward0>)\n",
            "tensor(0.1995, device='cuda:0', grad_fn=<MseLossBackward0>)\n",
            "tensor(0.2350, device='cuda:0', grad_fn=<MseLossBackward0>)\n",
            "tensor(0.2262, device='cuda:0', grad_fn=<MseLossBackward0>)\n",
            "tensor(0.2259, device='cuda:0', grad_fn=<MseLossBackward0>)\n",
            "tensor(0.2072, device='cuda:0', grad_fn=<MseLossBackward0>)\n",
            "tensor(0.2363, device='cuda:0', grad_fn=<MseLossBackward0>)\n",
            "tensor(0.2355, device='cuda:0', grad_fn=<MseLossBackward0>)\n",
            "tensor(0.2620, device='cuda:0', grad_fn=<MseLossBackward0>)\n",
            "tensor(0.1809, device='cuda:0', grad_fn=<MseLossBackward0>)\n",
            "tensor(0.2352, device='cuda:0', grad_fn=<MseLossBackward0>)\n",
            "tensor(0.2076, device='cuda:0', grad_fn=<MseLossBackward0>)\n",
            "tensor(0.2543, device='cuda:0', grad_fn=<MseLossBackward0>)\n",
            "tensor(0.2171, device='cuda:0', grad_fn=<MseLossBackward0>)\n",
            "tensor(0.2538, device='cuda:0', grad_fn=<MseLossBackward0>)\n",
            "tensor(0.2260, device='cuda:0', grad_fn=<MseLossBackward0>)\n",
            "tensor(0.2260, device='cuda:0', grad_fn=<MseLossBackward0>)\n",
            "tensor(0.2169, device='cuda:0', grad_fn=<MseLossBackward0>)\n",
            "tensor(0.1787, device='cuda:0', grad_fn=<MseLossBackward0>)\n",
            "tensor(0.2259, device='cuda:0', grad_fn=<MseLossBackward0>)\n",
            "tensor(0.2169, device='cuda:0', grad_fn=<MseLossBackward0>)\n",
            "tensor(0.1974, device='cuda:0', grad_fn=<MseLossBackward0>)\n",
            "tensor(0.2360, device='cuda:0', grad_fn=<MseLossBackward0>)\n",
            "tensor(0.2164, device='cuda:0', grad_fn=<MseLossBackward0>)\n",
            "tensor(0.2067, device='cuda:0', grad_fn=<MseLossBackward0>)\n"
          ]
        },
        {
          "output_type": "error",
          "ename": "KeyboardInterrupt",
          "evalue": "ignored",
          "traceback": [
            "\u001b[0;31m---------------------------------------------------------------------------\u001b[0m",
            "\u001b[0;31mKeyboardInterrupt\u001b[0m                         Traceback (most recent call last)",
            "\u001b[0;32m<ipython-input-153-d46c0607a41b>\u001b[0m in \u001b[0;36m<cell line: 13>\u001b[0;34m()\u001b[0m\n\u001b[1;32m     23\u001b[0m     \u001b[0;31m#print(outputs.dtype,outputs.size())\u001b[0m\u001b[0;34m\u001b[0m\u001b[0;34m\u001b[0m\u001b[0m\n\u001b[1;32m     24\u001b[0m     \u001b[0mloss\u001b[0m \u001b[0;34m=\u001b[0m \u001b[0mcriterion\u001b[0m\u001b[0;34m(\u001b[0m\u001b[0moutputs\u001b[0m\u001b[0;34m,\u001b[0m \u001b[0mlabels\u001b[0m\u001b[0;34m)\u001b[0m\u001b[0;34m\u001b[0m\u001b[0;34m\u001b[0m\u001b[0m\n\u001b[0;32m---> 25\u001b[0;31m     \u001b[0mprint\u001b[0m\u001b[0;34m(\u001b[0m\u001b[0mloss\u001b[0m\u001b[0;34m)\u001b[0m\u001b[0;34m\u001b[0m\u001b[0;34m\u001b[0m\u001b[0m\n\u001b[0m\u001b[1;32m     26\u001b[0m     \u001b[0mloss\u001b[0m\u001b[0;34m.\u001b[0m\u001b[0mbackward\u001b[0m\u001b[0;34m(\u001b[0m\u001b[0;34m)\u001b[0m\u001b[0;34m\u001b[0m\u001b[0;34m\u001b[0m\u001b[0m\n\u001b[1;32m     27\u001b[0m     \u001b[0moptimizer\u001b[0m\u001b[0;34m.\u001b[0m\u001b[0mstep\u001b[0m\u001b[0;34m(\u001b[0m\u001b[0;34m)\u001b[0m\u001b[0;34m\u001b[0m\u001b[0;34m\u001b[0m\u001b[0m\n",
            "\u001b[0;32m/usr/local/lib/python3.10/dist-packages/torch/_tensor.py\u001b[0m in \u001b[0;36m__repr__\u001b[0;34m(self, tensor_contents)\u001b[0m\n\u001b[1;32m    424\u001b[0m             )\n\u001b[1;32m    425\u001b[0m         \u001b[0;31m# All strings are unicode in Python 3.\u001b[0m\u001b[0;34m\u001b[0m\u001b[0;34m\u001b[0m\u001b[0m\n\u001b[0;32m--> 426\u001b[0;31m         \u001b[0;32mreturn\u001b[0m \u001b[0mtorch\u001b[0m\u001b[0;34m.\u001b[0m\u001b[0m_tensor_str\u001b[0m\u001b[0;34m.\u001b[0m\u001b[0m_str\u001b[0m\u001b[0;34m(\u001b[0m\u001b[0mself\u001b[0m\u001b[0;34m,\u001b[0m \u001b[0mtensor_contents\u001b[0m\u001b[0;34m=\u001b[0m\u001b[0mtensor_contents\u001b[0m\u001b[0;34m)\u001b[0m\u001b[0;34m\u001b[0m\u001b[0;34m\u001b[0m\u001b[0m\n\u001b[0m\u001b[1;32m    427\u001b[0m \u001b[0;34m\u001b[0m\u001b[0m\n\u001b[1;32m    428\u001b[0m     def backward(\n",
            "\u001b[0;32m/usr/local/lib/python3.10/dist-packages/torch/_tensor_str.py\u001b[0m in \u001b[0;36m_str\u001b[0;34m(self, tensor_contents)\u001b[0m\n\u001b[1;32m    634\u001b[0m     \u001b[0;32mwith\u001b[0m \u001b[0mtorch\u001b[0m\u001b[0;34m.\u001b[0m\u001b[0mno_grad\u001b[0m\u001b[0;34m(\u001b[0m\u001b[0;34m)\u001b[0m\u001b[0;34m,\u001b[0m \u001b[0mtorch\u001b[0m\u001b[0;34m.\u001b[0m\u001b[0mutils\u001b[0m\u001b[0;34m.\u001b[0m\u001b[0m_python_dispatch\u001b[0m\u001b[0;34m.\u001b[0m\u001b[0m_disable_current_modes\u001b[0m\u001b[0;34m(\u001b[0m\u001b[0;34m)\u001b[0m\u001b[0;34m:\u001b[0m\u001b[0;34m\u001b[0m\u001b[0;34m\u001b[0m\u001b[0m\n\u001b[1;32m    635\u001b[0m         \u001b[0mguard\u001b[0m \u001b[0;34m=\u001b[0m \u001b[0mtorch\u001b[0m\u001b[0;34m.\u001b[0m\u001b[0m_C\u001b[0m\u001b[0;34m.\u001b[0m\u001b[0m_DisableFuncTorch\u001b[0m\u001b[0;34m(\u001b[0m\u001b[0;34m)\u001b[0m\u001b[0;34m\u001b[0m\u001b[0;34m\u001b[0m\u001b[0m\n\u001b[0;32m--> 636\u001b[0;31m         \u001b[0;32mreturn\u001b[0m \u001b[0m_str_intern\u001b[0m\u001b[0;34m(\u001b[0m\u001b[0mself\u001b[0m\u001b[0;34m,\u001b[0m \u001b[0mtensor_contents\u001b[0m\u001b[0;34m=\u001b[0m\u001b[0mtensor_contents\u001b[0m\u001b[0;34m)\u001b[0m\u001b[0;34m\u001b[0m\u001b[0;34m\u001b[0m\u001b[0m\n\u001b[0m",
            "\u001b[0;32m/usr/local/lib/python3.10/dist-packages/torch/_tensor_str.py\u001b[0m in \u001b[0;36m_str_intern\u001b[0;34m(inp, tensor_contents)\u001b[0m\n\u001b[1;32m    565\u001b[0m                         \u001b[0mtensor_str\u001b[0m \u001b[0;34m=\u001b[0m \u001b[0m_tensor_str\u001b[0m\u001b[0;34m(\u001b[0m\u001b[0mself\u001b[0m\u001b[0;34m.\u001b[0m\u001b[0mto_dense\u001b[0m\u001b[0;34m(\u001b[0m\u001b[0;34m)\u001b[0m\u001b[0;34m,\u001b[0m \u001b[0mindent\u001b[0m\u001b[0;34m)\u001b[0m\u001b[0;34m\u001b[0m\u001b[0;34m\u001b[0m\u001b[0m\n\u001b[1;32m    566\u001b[0m                     \u001b[0;32melse\u001b[0m\u001b[0;34m:\u001b[0m\u001b[0;34m\u001b[0m\u001b[0;34m\u001b[0m\u001b[0m\n\u001b[0;32m--> 567\u001b[0;31m                         \u001b[0mtensor_str\u001b[0m \u001b[0;34m=\u001b[0m \u001b[0m_tensor_str\u001b[0m\u001b[0;34m(\u001b[0m\u001b[0mself\u001b[0m\u001b[0;34m,\u001b[0m \u001b[0mindent\u001b[0m\u001b[0;34m)\u001b[0m\u001b[0;34m\u001b[0m\u001b[0;34m\u001b[0m\u001b[0m\n\u001b[0m\u001b[1;32m    568\u001b[0m \u001b[0;34m\u001b[0m\u001b[0m\n\u001b[1;32m    569\u001b[0m     \u001b[0;32mif\u001b[0m \u001b[0mself\u001b[0m\u001b[0;34m.\u001b[0m\u001b[0mlayout\u001b[0m \u001b[0;34m!=\u001b[0m \u001b[0mtorch\u001b[0m\u001b[0;34m.\u001b[0m\u001b[0mstrided\u001b[0m\u001b[0;34m:\u001b[0m\u001b[0;34m\u001b[0m\u001b[0;34m\u001b[0m\u001b[0m\n",
            "\u001b[0;32m/usr/local/lib/python3.10/dist-packages/torch/_tensor_str.py\u001b[0m in \u001b[0;36m_tensor_str\u001b[0;34m(self, indent)\u001b[0m\n\u001b[1;32m    325\u001b[0m         )\n\u001b[1;32m    326\u001b[0m     \u001b[0;32melse\u001b[0m\u001b[0;34m:\u001b[0m\u001b[0;34m\u001b[0m\u001b[0;34m\u001b[0m\u001b[0m\n\u001b[0;32m--> 327\u001b[0;31m         \u001b[0mformatter\u001b[0m \u001b[0;34m=\u001b[0m \u001b[0m_Formatter\u001b[0m\u001b[0;34m(\u001b[0m\u001b[0mget_summarized_data\u001b[0m\u001b[0;34m(\u001b[0m\u001b[0mself\u001b[0m\u001b[0;34m)\u001b[0m \u001b[0;32mif\u001b[0m \u001b[0msummarize\u001b[0m \u001b[0;32melse\u001b[0m \u001b[0mself\u001b[0m\u001b[0;34m)\u001b[0m\u001b[0;34m\u001b[0m\u001b[0;34m\u001b[0m\u001b[0m\n\u001b[0m\u001b[1;32m    328\u001b[0m         \u001b[0;32mreturn\u001b[0m \u001b[0m_tensor_str_with_formatter\u001b[0m\u001b[0;34m(\u001b[0m\u001b[0mself\u001b[0m\u001b[0;34m,\u001b[0m \u001b[0mindent\u001b[0m\u001b[0;34m,\u001b[0m \u001b[0msummarize\u001b[0m\u001b[0;34m,\u001b[0m \u001b[0mformatter\u001b[0m\u001b[0;34m)\u001b[0m\u001b[0;34m\u001b[0m\u001b[0;34m\u001b[0m\u001b[0m\n\u001b[1;32m    329\u001b[0m \u001b[0;34m\u001b[0m\u001b[0m\n",
            "\u001b[0;32m/usr/local/lib/python3.10/dist-packages/torch/_tensor_str.py\u001b[0m in \u001b[0;36m__init__\u001b[0;34m(self, tensor)\u001b[0m\n\u001b[1;32m    113\u001b[0m \u001b[0;34m\u001b[0m\u001b[0m\n\u001b[1;32m    114\u001b[0m         \u001b[0;32melse\u001b[0m\u001b[0;34m:\u001b[0m\u001b[0;34m\u001b[0m\u001b[0;34m\u001b[0m\u001b[0m\n\u001b[0;32m--> 115\u001b[0;31m             nonzero_finite_vals = torch.masked_select(\n\u001b[0m\u001b[1;32m    116\u001b[0m                 \u001b[0mtensor_view\u001b[0m\u001b[0;34m,\u001b[0m \u001b[0mtorch\u001b[0m\u001b[0;34m.\u001b[0m\u001b[0misfinite\u001b[0m\u001b[0;34m(\u001b[0m\u001b[0mtensor_view\u001b[0m\u001b[0;34m)\u001b[0m \u001b[0;34m&\u001b[0m \u001b[0mtensor_view\u001b[0m\u001b[0;34m.\u001b[0m\u001b[0mne\u001b[0m\u001b[0;34m(\u001b[0m\u001b[0;36m0\u001b[0m\u001b[0;34m)\u001b[0m\u001b[0;34m\u001b[0m\u001b[0;34m\u001b[0m\u001b[0m\n\u001b[1;32m    117\u001b[0m             )\n",
            "\u001b[0;31mKeyboardInterrupt\u001b[0m: "
          ]
        }
      ],
      "source": [
        "# Train your model\n",
        "#train_acc = []\n",
        "\n",
        "#for indx in range(len(alldat)):\n",
        "  #print(\"heloo\")\n",
        "  #train_loader = DataLoader(spike_dataset[indx], batch_size=32, shuffle=False)\n",
        "  # if indx >0:\n",
        "  #   model.fc1(len(spike_dataset[indx][\"data\"]))\n",
        "  #   spike_dataset = SpikeDataset(data[indx], labels[indx])\n",
        "  #   # Create the train_loader\n",
        "  #   train_loader = DataLoader(spike_dataset, batch_size=32, shuffle=False)\n",
        "  #for i in range(len(spike_dataset[indx][0][0])):\n",
        "for epoch in range(10):\n",
        "  for data in train_loader:\n",
        "    #for i in range(len(spike_dataset[indx][0][0][0])):\n",
        "    inputs = data[\"data\"]\n",
        "    labels = data[\"label\"].cuda()\n",
        "    #labels = spike_dataset[indx][1][i]\n",
        "    optimizer.zero_grad()\n",
        "    #print(inputs.dtype,inputs.size())\n",
        "    #print(labels.dtype,labels.size())\n",
        "    outputs = model(inputs).cuda()\n",
        "    #print(outputs.dtype,outputs.size())\n",
        "    loss = criterion(outputs, labels)\n",
        "    print(loss)\n",
        "    loss.backward()\n",
        "    optimizer.step()\n",
        "\n",
        "    # Compute accuracy\n",
        "    # predicted = torch.round(torch.sigmoid(outputs))\n",
        "    # correct = (predicted == labels).sum().item()\n",
        "    # accuracy = correct / labels.size(0)\n",
        "    # train_acc.append(accuracy)\n"
      ]
    },
    {
      "cell_type": "code",
      "source": [
        "from sklearn import metrics\n",
        "# Set the model to evaluation mode\n",
        "model.eval()\n",
        "\n",
        "# Lists to store the predicted and true labels\n",
        "predicted_labels = []\n",
        "true_labels = []\n",
        "\n",
        "# Iterate over the test_loader\n",
        "for batch in test_loader:\n",
        "    # Forward pass\n",
        "    outputs = model(batch[\"data\"])\n",
        "    predicted = torch.round(torch.sigmoid(outputs))\n",
        "    labels = batch[\"label\"]\n",
        "    # Convert tensors to numpy arrays\n",
        "    predicted = predicted.cpu().detach().numpy()\n",
        "    labels = labels.cpu().numpy()\n",
        "\n",
        "    # Append the predicted and true labels to the lists\n",
        "    predicted_labels.extend(predicted)\n",
        "    true_labels.extend(labels)\n",
        "\n",
        "# Convert the lists to numpy arrays\n",
        "predicted_labels = np.array(predicted_labels)\n",
        "true_labels = np.array(true_labels)\n",
        "\n",
        "# Calculate accuracy and F1 score\n",
        "accuracy = accuracy_score(true_labels, predicted_labels)\n",
        "f1 = f1_score(true_labels, predicted_labels)\n",
        "print(metrics.classification_report(true_labels, predicted_labels))\n",
        "print('Accuracy:', accuracy)\n",
        "print('F1 Score:', f1)"
      ],
      "metadata": {
        "colab": {
          "base_uri": "https://localhost:8080/"
        },
        "id": "NVF6cpqH_g_t",
        "outputId": "617cf389-14b1-49e9-aa4a-b514e7ba1281"
      },
      "id": "NVF6cpqH_g_t",
      "execution_count": 154,
      "outputs": [
        {
          "output_type": "stream",
          "name": "stdout",
          "text": [
            "              precision    recall  f1-score   support\n",
            "\n",
            "         0.0       0.00      0.00      0.00       621\n",
            "         1.0       0.68      1.00      0.81      1333\n",
            "\n",
            "    accuracy                           0.68      1954\n",
            "   macro avg       0.34      0.50      0.41      1954\n",
            "weighted avg       0.47      0.68      0.55      1954\n",
            "\n",
            "Accuracy: 0.6821903787103377\n",
            "F1 Score: 0.8110739275935503\n"
          ]
        },
        {
          "output_type": "stream",
          "name": "stderr",
          "text": [
            "/usr/local/lib/python3.10/dist-packages/sklearn/metrics/_classification.py:1344: UndefinedMetricWarning: Precision and F-score are ill-defined and being set to 0.0 in labels with no predicted samples. Use `zero_division` parameter to control this behavior.\n",
            "  _warn_prf(average, modifier, msg_start, len(result))\n",
            "/usr/local/lib/python3.10/dist-packages/sklearn/metrics/_classification.py:1344: UndefinedMetricWarning: Precision and F-score are ill-defined and being set to 0.0 in labels with no predicted samples. Use `zero_division` parameter to control this behavior.\n",
            "  _warn_prf(average, modifier, msg_start, len(result))\n",
            "/usr/local/lib/python3.10/dist-packages/sklearn/metrics/_classification.py:1344: UndefinedMetricWarning: Precision and F-score are ill-defined and being set to 0.0 in labels with no predicted samples. Use `zero_division` parameter to control this behavior.\n",
            "  _warn_prf(average, modifier, msg_start, len(result))\n"
          ]
        }
      ]
    },
    {
      "cell_type": "markdown",
      "id": "5ace63da",
      "metadata": {
        "id": "5ace63da"
      },
      "source": [
        "# --------------------------"
      ]
    },
    {
      "cell_type": "code",
      "execution_count": null,
      "id": "5c6ada6c",
      "metadata": {
        "id": "5c6ada6c",
        "outputId": "876d104f-9758-4d60-ef18-6c3ff360960f"
      },
      "outputs": [
        {
          "name": "stdout",
          "output_type": "stream",
          "text": [
            "              precision    recall  f1-score   support\n",
            "\n",
            "           0       0.81      0.76      0.79        17\n",
            "           1       0.88      0.91      0.90        33\n",
            "\n",
            "    accuracy                           0.86        50\n",
            "   macro avg       0.85      0.84      0.84        50\n",
            "weighted avg       0.86      0.86      0.86        50\n",
            "\n",
            "[[13  4]\n",
            " [ 3 30]]\n"
          ]
        }
      ],
      "source": [
        "from sklearn import metrics\n",
        "print(metrics.classification_report(y_test, prediction))\n",
        "print(metrics.confusion_matrix(y_test, prediction))"
      ]
    },
    {
      "cell_type": "code",
      "execution_count": null,
      "id": "de9a12d9",
      "metadata": {
        "id": "de9a12d9",
        "outputId": "5ba40251-de2c-46b4-e4c0-3243d2e9a645"
      },
      "outputs": [
        {
          "data": {
            "text/plain": [
              "0.86"
            ]
          },
          "execution_count": 20,
          "metadata": {},
          "output_type": "execute_result"
        }
      ],
      "source": [
        "# session 3 feedback accuracy\n",
        "sum(y_test==prediction)/len(y_test)"
      ]
    },
    {
      "cell_type": "code",
      "execution_count": null,
      "id": "451a50ca",
      "metadata": {
        "id": "451a50ca"
      },
      "outputs": [],
      "source": [
        "Yc = dat['response']"
      ]
    },
    {
      "cell_type": "code",
      "execution_count": null,
      "id": "66484834",
      "metadata": {
        "id": "66484834"
      },
      "outputs": [],
      "source": [
        "Ymod = []\n",
        "for i in Yc:\n",
        "    if i == 0:\n",
        "        x=0\n",
        "    elif i == 1:\n",
        "        x=1\n",
        "    elif i == -1:\n",
        "        x=2\n",
        "    Ymod.append(x)"
      ]
    },
    {
      "cell_type": "code",
      "execution_count": null,
      "id": "499930ea",
      "metadata": {
        "id": "499930ea",
        "outputId": "a2d6e1d3-3566-4159-e268-44ea8a18799e"
      },
      "outputs": [
        {
          "data": {
            "text/plain": [
              "array([0, 1, 2])"
            ]
          },
          "execution_count": 23,
          "metadata": {},
          "output_type": "execute_result"
        }
      ],
      "source": [
        "np.unique(Ymod)"
      ]
    },
    {
      "cell_type": "code",
      "execution_count": null,
      "id": "11bb6d85",
      "metadata": {
        "id": "11bb6d85"
      },
      "outputs": [],
      "source": [
        "from sklearn.model_selection import train_test_split\n",
        "X_train, X_test, y_train, y_test = train_test_split(spikes_all, Ymod, test_size = 0.2, random_state = 0)"
      ]
    },
    {
      "cell_type": "code",
      "execution_count": null,
      "id": "4e59679d",
      "metadata": {
        "id": "4e59679d"
      },
      "outputs": [],
      "source": [
        "import pandas as pd\n",
        "from xgboost import XGBClassifier\n",
        "clf=XGBClassifier(n_estimators=100, objective='multi:softmax', booster='gbtree')"
      ]
    },
    {
      "cell_type": "code",
      "execution_count": null,
      "id": "2d7be932",
      "metadata": {
        "id": "2d7be932"
      },
      "outputs": [],
      "source": [
        "XGB=clf.fit(X_train,y_train)\n",
        "prediction=XGB.predict(X_test)"
      ]
    },
    {
      "cell_type": "code",
      "execution_count": null,
      "id": "22075525",
      "metadata": {
        "id": "22075525",
        "outputId": "5687c97c-1c19-407a-b516-95dded3a00e9"
      },
      "outputs": [
        {
          "data": {
            "text/plain": [
              "0.72"
            ]
          },
          "execution_count": 27,
          "metadata": {},
          "output_type": "execute_result"
        }
      ],
      "source": [
        "# session 3 choice accuracy\n",
        "sum(y_test==prediction)/len(y_test)"
      ]
    },
    {
      "cell_type": "code",
      "execution_count": null,
      "id": "b0501fbc",
      "metadata": {
        "id": "b0501fbc",
        "outputId": "f9d332ce-9d17-41ec-f915-85cec08a5594"
      },
      "outputs": [
        {
          "name": "stdout",
          "output_type": "stream",
          "text": [
            "              precision    recall  f1-score   support\n",
            "\n",
            "           0       0.89      1.00      0.94        24\n",
            "           1       0.38      0.30      0.33        10\n",
            "           2       0.60      0.56      0.58        16\n",
            "\n",
            "    accuracy                           0.72        50\n",
            "   macro avg       0.62      0.62      0.62        50\n",
            "weighted avg       0.69      0.72      0.70        50\n",
            "\n",
            "[[24  0  0]\n",
            " [ 1  3  6]\n",
            " [ 2  5  9]]\n"
          ]
        }
      ],
      "source": [
        "from sklearn import metrics\n",
        "print(metrics.classification_report(y_test, prediction))\n",
        "print(metrics.confusion_matrix(y_test, prediction))"
      ]
    }
  ],
  "metadata": {
    "kernelspec": {
      "display_name": "Python 3",
      "name": "python3"
    },
    "language_info": {
      "codemirror_mode": {
        "name": "ipython",
        "version": 3
      },
      "file_extension": ".py",
      "mimetype": "text/x-python",
      "name": "python",
      "nbconvert_exporter": "python",
      "pygments_lexer": "ipython3",
      "version": "3.10.11"
    },
    "colab": {
      "provenance": [],
      "gpuType": "T4"
    },
    "accelerator": "GPU"
  },
  "nbformat": 4,
  "nbformat_minor": 5
}